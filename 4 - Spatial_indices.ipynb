{
 "cells": [
  {
   "cell_type": "markdown",
   "id": "73592670-a990-4fbb-b954-888215386949",
   "metadata": {},
   "source": [
    "<div class=\"alert alert-info\">\n",
    "<u><strong>Authors:</strong></u> <b>Ahmed Mukhtar</b> (ahmed.mukhtar@mail.polimi.it) and <b>Ahmed Yassin</b> (ahmedmohamed1@mail.polimi.it) - 2023 - Politecnico di Milano, Italy <br>\n",
    "</div>"
   ]
  },
  {
   "cell_type": "markdown",
   "id": "0b6e4a92-d805-4dcf-b21c-30aa438311f5",
   "metadata": {},
   "source": [
    "# Computation of the monthly 90th and 10th percentile indices"
   ]
  },
  {
   "cell_type": "markdown",
   "id": "28896ee2-e913-4633-8396-7389e29439ef",
   "metadata": {},
   "source": [
    "This Notebook computes the time series completeness of each Netatmo station for a specified year and month. Then, it computes the 90th and 10th percentiles of the time series noramlised with respect to the 90th and 10th percentiles of the average time series."
   ]
  },
  {
   "cell_type": "code",
   "execution_count": null,
   "id": "ea1862dd-afda-4c48-9b7b-3f762a1b92a5",
   "metadata": {
    "tags": []
   },
   "outputs": [],
   "source": [
    "import os\n",
    "import folium\n",
    "import pandas as pd\n",
    "import seaborn as sns\n",
    "import geopandas as gpd\n",
    "import ipywidgets as widgets\n",
    "import matplotlib.pyplot as plt\n",
    "from shapely.geometry import Point\n",
    "import plotly.graph_objects as go\n",
    "import calendar\n",
    "%load_ext autoreload"
   ]
  },
  {
   "cell_type": "code",
   "execution_count": null,
   "id": "2d529d9a-de5b-4e57-b12b-dce53b468982",
   "metadata": {
    "tags": []
   },
   "outputs": [],
   "source": [
    "year_w = widgets.Dropdown(\n",
    "    options = [i for i in range(2014, 2024)],\n",
    "    value = 2023,\n",
    "    description = 'Year:',\n",
    "    disabled = False,\n",
    "    layout = {'width': 'max-content'},\n",
    "    style = {'description_width': 'initial'}\n",
    ")\n",
    "year_w"
   ]
  },
  {
   "cell_type": "code",
   "execution_count": null,
   "id": "7692b542-0dc9-4fe6-9407-d0fa302eb105",
   "metadata": {
    "tags": []
   },
   "outputs": [],
   "source": [
    "year = year_w.value"
   ]
  },
  {
   "cell_type": "code",
   "execution_count": null,
   "id": "c624daf5-bd25-4770-a025-5ee164a9cfa8",
   "metadata": {
    "tags": []
   },
   "outputs": [],
   "source": [
    "month_w = widgets.Dropdown(\n",
    "    options = [i for i in range(1,13)],\n",
    "    value = 1,\n",
    "    description = 'Month:',\n",
    "    disabled = False,\n",
    "    layout = {'width': 'max-content'},\n",
    "    style = {'description_width': 'initial'}\n",
    ")\n",
    "month_w"
   ]
  },
  {
   "cell_type": "code",
   "execution_count": null,
   "id": "617fa1c8-e3be-4961-9280-267f8d99e17b",
   "metadata": {
    "tags": []
   },
   "outputs": [],
   "source": [
    "month = month_w.value"
   ]
  },
  {
   "cell_type": "code",
   "execution_count": null,
   "id": "12b5b06a-8577-4914-b0c9-f929dfd01edb",
   "metadata": {
    "tags": []
   },
   "outputs": [],
   "source": [
    "netatmo_out_path = 'Netatmo_csv_files/'"
   ]
  },
  {
   "cell_type": "markdown",
   "id": "0aa0e700-7b5d-4dfb-b91e-cc54c624e476",
   "metadata": {},
   "source": [
    "## 1. Time series completeness"
   ]
  },
  {
   "cell_type": "markdown",
   "id": "73330bc8-d56b-4255-973d-2286bf44a22c",
   "metadata": {},
   "source": [
    "### Hourly check"
   ]
  },
  {
   "cell_type": "code",
   "execution_count": null,
   "id": "aa9f7cd3-7b15-42a9-a279-0d7c4fb62a18",
   "metadata": {
    "tags": []
   },
   "outputs": [],
   "source": [
    "# Load original data\n",
    "netatmo_original = pd.read_csv(netatmo_out_path + 'temp_Net_milan_%s-%s_clip.csv' % (year, month), skiprows=0)\n",
    "# Load cleaned data\n",
    "netatmo_cleaned = pd.read_csv(netatmo_out_path + 'temp_Net_milan_%s-%s_filtered.csv' % (year, month), skiprows=0)"
   ]
  },
  {
   "cell_type": "markdown",
   "id": "57138e49-48de-4f44-a0be-c2010667a781",
   "metadata": {},
   "source": [
    "**Note**: `temp_net_df1` is the original data, `temp_net_df2` is cleaned data."
   ]
  },
  {
   "cell_type": "code",
   "execution_count": null,
   "id": "162ec387-3fba-4b10-b949-015fe50217a5",
   "metadata": {
    "tags": []
   },
   "outputs": [],
   "source": [
    "def data_time_series_hourly(temp_net_df1, temp_net_df2, month, year, threshold):\n",
    "    \n",
    "    # Columns to be used\n",
    "    columns = ['module_id', 'device_id', 'lat', 'long', 'timezone', 'country', 'altitude', 'city', 'street', 'geometry']\n",
    "\n",
    "    # Group temp_net_df1 by module_id and count observations\n",
    "    df1_n_obs = temp_net_df1.groupby('module_id').size().reset_index(name='n.obs(original)')\n",
    "    # Merge with original data (netatmo_original)\n",
    "    df1 = pd.merge(df1_n_obs, temp_net_df1.drop_duplicates('module_id')[columns], on='module_id', how='left')\n",
    "\n",
    "    # Group by module_id and count observations\n",
    "    df2_n_obs = temp_net_df2.groupby('module_id').size().reset_index(name='n.obs(cleaned)')\n",
    "    # Merge with cleaned data (netatmo_cleaned)\n",
    "    df2 = pd.merge(df2_n_obs, temp_net_df2.drop_duplicates('module_id')[columns], on='module_id', how='left')\n",
    "\n",
    "    # Merge cleaned data with original observation count\n",
    "    missing_values_df = pd.merge(df2, df1[['module_id', 'n.obs(original)']], on='module_id', how='left')\n",
    "\n",
    "    # Calculate removed observations\n",
    "    missing_values_df['removed.Obs'] = missing_values_df['n.obs(original)'] - missing_values_df['n.obs(cleaned)']\n",
    "\n",
    "    # Determine total hours in the month\n",
    "    if month in [1, 3, 5, 7, 8, 10, 12]:  # 31 days in January, March, May, July, August, October, December\n",
    "        total_hours = 31 * 24\n",
    "    elif month in [4, 6, 9, 11]:  # 30 days in April, June, September, November\n",
    "        total_hours = 30 * 24\n",
    "    elif month == 2:  # February\n",
    "        # Check for leap year\n",
    "        if (year % 4 == 0 and year % 100 != 0) or (year % 400 == 0):\n",
    "            total_hours = 29 * 24  # 29 days in February\n",
    "        else:\n",
    "            total_hours = 28 * 24  # 28 days in February\n",
    "\n",
    "    # check for observations time_serries percentage of each sensor\n",
    "    missing_values_df['Time-Serries%'] = (missing_values_df['n.obs(cleaned)'] / total_hours)*100\n",
    "\n",
    "    # Select relevant columns\n",
    "    result_df = missing_values_df[['module_id', 'n.obs(original)', 'n.obs(cleaned)', 'removed.Obs', 'Time-Serries%']]\n",
    "    \n",
    "    # Filter rows where 'remaining.Obs' is equal to 1 (compete)\n",
    "    complete_time_serries = result_df[result_df['Time-Serries%'] >= threshold]\n",
    "    \n",
    "    ### CREAT COMBINED PLOT ###\n",
    "    month_name = calendar.month_name[month]\n",
    "    fig, (ax1, ax2) = plt.subplots(1, 2, figsize=(20, 8))\n",
    "    # Plot the histogram on the first subplot\n",
    "    sns.histplot(result_df['Time-Serries%'], bins=20, kde=True, ax=ax1)\n",
    "    ax1.set_title(f'Distribution of time series completeness - {month_name} {year}', fontsize=20)\n",
    "    ax1.set_xlabel('Percentage of completeness', fontsize=18)\n",
    "    ax1.set_ylabel('Number of stations', fontsize=18)\n",
    "    ax1.tick_params(axis='both', which='major', labelsize=16)\n",
    "    \n",
    "    # Plot the pie chart on the second subplot\n",
    "    complete_TS = len(complete_time_serries)\n",
    "    incomplete_TS = len(result_df)-len(complete_time_serries)\n",
    "    \n",
    "    ax2.pie([complete_TS, incomplete_TS], labels=[f'Completeness >{threshold}% ({complete_TS})', f'Completeness <{threshold}% ({incomplete_TS})'],\n",
    "        autopct='%1.1f%%', startangle=130, colors=['red','#66b3ff'], textprops={'fontsize': 16})\n",
    "    ax2.set_title(f'Proportion of time series completeness', fontsize=20)\n",
    "    \n",
    "    plt.tight_layout()\n",
    "\n",
    "    # Save the plot as an image (e.g., PNG, JPG, PDF)\n",
    "    hist_path = \"10th_90th_Percentile_Index/time_series_histograms/\"\n",
    "    plt.savefig(hist_path + f'stations_Time-Series_{year}_{month}.png')\n",
    "\n",
    "    plt.show()\n",
    "\n",
    "    return result_df, complete_time_serries, plt"
   ]
  },
  {
   "cell_type": "code",
   "execution_count": null,
   "id": "1ac0a046-d1ff-44ff-9f20-13a2d03d6b05",
   "metadata": {
    "tags": []
   },
   "outputs": [],
   "source": [
    "threshold_w = widgets.Dropdown(\n",
    "    options = [i for i in range(1, 101)],\n",
    "    value = 80,\n",
    "    description = 'threshold:',\n",
    "    disabled = False,\n",
    "    layout = {'width': 'max-content'},\n",
    "    style = {'description_width': 'initial'}\n",
    ")\n",
    "threshold_w"
   ]
  },
  {
   "cell_type": "code",
   "execution_count": null,
   "id": "fc1086f0-6183-4fab-a2e1-c9e3861cc7f8",
   "metadata": {
    "tags": []
   },
   "outputs": [],
   "source": [
    "threshold = threshold_w.value"
   ]
  },
  {
   "cell_type": "code",
   "execution_count": null,
   "id": "db310ca1-b444-4359-ac1f-7cb898b08105",
   "metadata": {
    "tags": []
   },
   "outputs": [],
   "source": [
    "result_df, complete_time_serries, plt = data_time_series_hourly(netatmo_original, netatmo_cleaned, month, year, threshold)"
   ]
  },
  {
   "cell_type": "code",
   "execution_count": null,
   "id": "ad8060e1-cdce-4b15-8fc5-bf736dbd560e",
   "metadata": {
    "tags": []
   },
   "outputs": [],
   "source": [
    "#result_df"
   ]
  },
  {
   "cell_type": "code",
   "execution_count": null,
   "id": "d0a8852e-6974-4f11-8e2f-c784cff4c410",
   "metadata": {
    "tags": []
   },
   "outputs": [],
   "source": [
    "#complete_time_serries"
   ]
  },
  {
   "cell_type": "code",
   "execution_count": null,
   "id": "eb67dd19-b5ff-4774-a618-22d7b700df47",
   "metadata": {
    "tags": []
   },
   "outputs": [],
   "source": [
    "netatmo_cleaned['time'] = pd.to_datetime(netatmo_cleaned['time'], errors='coerce')\n",
    "grouped = complete_time_serries.groupby('module_id')\n",
    "all_complete_modules = set()\n",
    "for module_id, group in grouped:\n",
    "    all_complete_modules.add(module_id)\n",
    "if all_complete_modules:\n",
    "    complete_modules = netatmo_cleaned[netatmo_cleaned['module_id'].isin(all_complete_modules)]\n",
    "    percentiles_per_module = complete_modules.groupby('module_id')['Temperature'].quantile([0.9, 0.1]).unstack()\n",
    "    hourly_averages = complete_modules.groupby(pd.Grouper(key='time', freq='h'))['Temperature'].mean()\n",
    "    average_90th_percentile = hourly_averages.quantile(0.9)\n",
    "    average_10th_percentile = hourly_averages.quantile(0.1)\n",
    "    \n",
    "    index_90th = percentiles_per_module[0.9] / average_90th_percentile\n",
    "    index_10th = percentiles_per_module[0.1] / average_10th_percentile\n",
    "    \n",
    "    indices = complete_modules.groupby('module_id').agg({\n",
    "        'Temperature': 'mean',\n",
    "        'device_id': 'first',\n",
    "        'lat': 'first',\n",
    "        'long': 'first',\n",
    "        'timezone': 'first',\n",
    "        'country': 'first',\n",
    "        'altitude': 'first',\n",
    "        'city': 'first',\n",
    "        'street': 'first',\n",
    "        'geometry': 'first'\n",
    "    }).reset_index()\n",
    "    \n",
    "    indices['90th Percentile Index'] = indices['module_id'].map(index_90th)\n",
    "    indices['10th Percentile Index'] = indices['module_id'].map(index_10th)\n",
    "    \n",
    "indices = indices[['module_id', 'Temperature', '90th Percentile Index', '10th Percentile Index',\n",
    "                               'lat', 'long', 'city', 'street', 'altitude', 'geometry']]\n",
    "\n",
    "path = '10th_90th_Percentile_Index/'\n",
    "indices.to_csv(path + f'indices_{year}_{month}.csv')"
   ]
  },
  {
   "cell_type": "code",
   "execution_count": null,
   "id": "c1a6c924-eae2-42d6-a390-60beee9c3c4b",
   "metadata": {
    "tags": []
   },
   "outputs": [],
   "source": [
    "print(\"Number of stations:\", netatmo_cleaned['module_id'].nunique())\n",
    "print(\"Stations with complete time-series (> threshold):\", len(complete_time_serries))\n",
    "print(\"Stations with incomplete time-series (< threshold):\", (netatmo_cleaned['module_id'].nunique()-len(complete_time_serries)))"
   ]
  },
  {
   "cell_type": "markdown",
   "id": "be372b91-1d47-4d61-bddd-f9d353bc04c4",
   "metadata": {},
   "source": [
    "## 2. Computation of normalised 10th and 90th percentiles"
   ]
  },
  {
   "cell_type": "code",
   "execution_count": null,
   "id": "15e7810d-09d1-410d-825d-5329e10f77af",
   "metadata": {
    "tags": []
   },
   "outputs": [],
   "source": [
    "#indices"
   ]
  },
  {
   "cell_type": "code",
   "execution_count": null,
   "id": "12ef2ac5-977a-4008-adee-1ba163fd9257",
   "metadata": {
    "tags": []
   },
   "outputs": [],
   "source": [
    "def plot_index_map(selected_df, Index):\n",
    "    # Create 'geometry' column as Point objects\n",
    "    geometry_array = [Point(xy) for xy in zip(selected_df['long'], selected_df['lat'])]\n",
    "    # Create a GeoDataFrame\n",
    "    selected_gdf = gpd.GeoDataFrame(selected_df, geometry=geometry_array, crs='EPSG:4326')\n",
    "\n",
    "    aoi_gdf = gpd.read_file('CMM.gpkg')\n",
    "    m = aoi_gdf.explore(\n",
    "        marker_kwds=dict(radius=10, fill=True),\n",
    "        tooltip_kwds=dict(labels=False),\n",
    "        tooltip=False,\n",
    "        popup=False,\n",
    "        highlight=False,\n",
    "        name=\"cmm\"\n",
    "    )\n",
    "\n",
    "    selected_gdf.explore(\n",
    "        m=m,\n",
    "        column= Index,\n",
    "        tooltip=['module_id', 'city', 'street','altitude', Index],\n",
    "        popup=True,\n",
    "        tiles=\"CartoDB positron\",\n",
    "        #marker_kwds=dict(radius=4, fill=False, color='red'),\n",
    "        marker_kwds=dict(radius=4, fill=True, color='red_color_ramp'),\n",
    "        cmap='Spectral_r'\n",
    "    )\n",
    "    \n",
    "    # Add north arrow\n",
    "    north_arrow_html = '''\n",
    "    <div style=\"position: fixed; top: 50px; right: 35px; width: 52px; height: 70px; \n",
    "                background-color: white; border:2px solid black; z-index:9999; font-size:15px;\">\n",
    "        <img src=\"https://th.bing.com/th/id/R.c66b4aa98a0cbcf2c9c62da5819e528a?rik=hnWDHcMoO8Hnhw&riu=http%3a%2f%2fpluspng.com%2fimg-png%2ffree-png-north-arrow-big-image-png-1659.png&ehk=KTDoWmlfwvZGkF3%2f3F9JY1ltV6DkLkrkHog%2fpXQiyqc%3d&risl=&pid=ImgRaw&r=0\" \n",
    "             style=\"width:50px; height:60px;\">\n",
    "    </div>\n",
    "    '''\n",
    "    m.get_root().html.add_child(folium.Element(north_arrow_html))\n",
    "\n",
    "    return m"
   ]
  },
  {
   "cell_type": "markdown",
   "id": "3e5836c6-03e5-4fb9-9a7c-422bcedb2ba5",
   "metadata": {},
   "source": [
    "### 90th percentile index"
   ]
  },
  {
   "cell_type": "code",
   "execution_count": null,
   "id": "4509786a-5b35-4775-9bc6-d3b0819e4cae",
   "metadata": {
    "tags": []
   },
   "outputs": [],
   "source": [
    "plot_index_map(indices, \"90th Percentile Index\")"
   ]
  },
  {
   "cell_type": "markdown",
   "id": "56e5d111-ad75-4105-b7c2-7b055cdd527b",
   "metadata": {},
   "source": [
    "### 10th percentile index"
   ]
  },
  {
   "cell_type": "code",
   "execution_count": null,
   "id": "6d85a560-b3c2-4d0d-a10d-4f01d519b69b",
   "metadata": {
    "tags": []
   },
   "outputs": [],
   "source": [
    "plot_index_map(indices, \"10th Percentile Index\")"
   ]
  },
  {
   "cell_type": "code",
   "execution_count": null,
   "id": "de364b71-33df-4064-9042-e40820a77e15",
   "metadata": {},
   "outputs": [],
   "source": []
  }
 ],
 "metadata": {
  "kernelspec": {
   "display_name": "Python 3 (ipykernel)",
   "language": "python",
   "name": "python3"
  },
  "language_info": {
   "codemirror_mode": {
    "name": "ipython",
    "version": 3
   },
   "file_extension": ".py",
   "mimetype": "text/x-python",
   "name": "python",
   "nbconvert_exporter": "python",
   "pygments_lexer": "ipython3",
   "version": "3.10.10"
  }
 },
 "nbformat": 4,
 "nbformat_minor": 5
}
