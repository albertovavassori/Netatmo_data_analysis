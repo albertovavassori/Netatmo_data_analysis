{
 "cells": [
  {
   "cell_type": "markdown",
   "id": "79e041c5-3e08-4672-901b-5c6f8464475b",
   "metadata": {},
   "source": [
    "<div class=\"alert alert-info\">\n",
    "<u><strong>Authors:</strong></u> <b>Ahmed Mukhtar</b> (ahmed.mukhtar@mail.polimi.it) and <b>Ahmed Yassin</b> (ahmedmohamed1@mail.polimi.it) - 2023 - Politecnico di Milano, Italy <br>\n",
    "</div>"
   ]
  },
  {
   "cell_type": "markdown",
   "id": "89a4f73d-5ec3-4dcd-b789-7b787912f4ef",
   "metadata": {},
   "source": [
    "## Netatmo temperature time series cleaning (part 2)"
   ]
  },
  {
   "cell_type": "markdown",
   "id": "7c8bba64-de95-40a8-99c1-521624ff80b4",
   "metadata": {},
   "source": [
    "This notebook computes the reliability index for a selected month and removes the unreliable stations. Also, it displays the reliability index on a map."
   ]
  },
  {
   "cell_type": "code",
   "execution_count": null,
   "id": "9bf3270c-0ac6-417b-8938-7ba7f4468ac2",
   "metadata": {},
   "outputs": [],
   "source": [
    "import os\n",
    "import netatmo_cleaning as nc\n",
    "import pandas as pd\n",
    "import geopandas as gpd\n",
    "import folium\n",
    "import plotly.graph_objects as go\n",
    "from shapely.geometry import Point\n",
    "import ipywidgets as widgets"
   ]
  },
  {
   "cell_type": "code",
   "execution_count": null,
   "id": "1130e910-56a5-48f1-a561-877f7d93322f",
   "metadata": {
    "tags": []
   },
   "outputs": [],
   "source": [
    "from analysis_functions import *\n",
    "%load_ext autoreload"
   ]
  },
  {
   "cell_type": "code",
   "execution_count": null,
   "id": "69d07e17-b04a-46e4-8a58-c9c690ba3ff2",
   "metadata": {},
   "outputs": [],
   "source": [
    "year_w = widgets.Dropdown(\n",
    "    options = [i for i in range(2014, 2024)],\n",
    "    value = 2023,\n",
    "    description = 'Year:',\n",
    "    disabled = False,\n",
    "    layout = {'width': 'max-content'},\n",
    "    style = {'description_width': 'initial'}\n",
    ")\n",
    "year_w"
   ]
  },
  {
   "cell_type": "code",
   "execution_count": null,
   "id": "d6e2909d-1d3f-4ee1-bd54-70f8c452810b",
   "metadata": {},
   "outputs": [],
   "source": [
    "year = year_w.value"
   ]
  },
  {
   "cell_type": "code",
   "execution_count": null,
   "id": "391483c1-4168-4d38-98d6-ffd4e98a90a5",
   "metadata": {},
   "outputs": [],
   "source": [
    "month_w = widgets.Dropdown(\n",
    "    options = [i for i in range(1, 13)],\n",
    "    value = 1,\n",
    "    description = 'Month:',\n",
    "    disabled = False,\n",
    "    layout = {'width': 'max-content'},\n",
    "    style = {'description_width': 'initial'}\n",
    ")\n",
    "month_w"
   ]
  },
  {
   "cell_type": "code",
   "execution_count": null,
   "id": "193ad356-a90b-43e0-86ac-e04809120bad",
   "metadata": {},
   "outputs": [],
   "source": [
    "month = month_w.value"
   ]
  },
  {
   "cell_type": "code",
   "execution_count": null,
   "id": "2e736b6d-3e98-41fd-ae51-17f9f0962c9f",
   "metadata": {},
   "outputs": [],
   "source": [
    "netatmo_out_path = 'Netatmo_csv_files/'"
   ]
  },
  {
   "cell_type": "markdown",
   "id": "456cf3e3-e627-4b99-a63a-d5464ce87e8a",
   "metadata": {},
   "source": [
    "Open the original and clean Netatmo dataset for the selected year and month:"
   ]
  },
  {
   "cell_type": "code",
   "execution_count": null,
   "id": "5a1ad70b-a449-4119-9c87-e66c2325eb87",
   "metadata": {},
   "outputs": [],
   "source": [
    "netatmo_original = pd.read_csv(netatmo_out_path + 'temp_Net_milan_%s-%s_clip.csv' % (year, month), skiprows=0)\n",
    "netatmo_cleaned = pd.read_csv(netatmo_out_path + 'temp_Net_milan_%s-%s_clean.csv' % (year, month), skiprows=0)"
   ]
  },
  {
   "cell_type": "markdown",
   "id": "fda768dc-7c63-4a63-bde2-136728892d63",
   "metadata": {},
   "source": [
    "Compute the reliability index and remove unreliable stations:"
   ]
  },
  {
   "cell_type": "code",
   "execution_count": null,
   "id": "eb166cd2-3af7-4c17-aefb-47c9f9c44467",
   "metadata": {},
   "outputs": [],
   "source": [
    "reliability_index, filtered_stations, removed_stations, netatmo_filtered = nc.remove_unreliable_stations(netatmo_original, netatmo_cleaned, netatmo_out_path, year, month)"
   ]
  },
  {
   "cell_type": "markdown",
   "id": "1f4c323a-b84d-460a-9ddc-0f205897548a",
   "metadata": {},
   "source": [
    "**Note: reliability index is defined as the fraction between the number of measurements kept after cleaning and the original number of measurements. A station is labelled as unreliable if the reliability index is less than 0.5.**"
   ]
  },
  {
   "cell_type": "code",
   "execution_count": null,
   "id": "f7775785-39f0-4cbc-84ff-ed0c7d3cedf9",
   "metadata": {},
   "outputs": [],
   "source": [
    "reliability_index"
   ]
  },
  {
   "cell_type": "markdown",
   "id": "74e19eb0-d9e9-4050-a6aa-0e0c94b39228",
   "metadata": {},
   "source": [
    "<u>Number of the remaining stations:"
   ]
  },
  {
   "cell_type": "code",
   "execution_count": null,
   "id": "8bbc95dd-2185-4afa-a0fb-758c392f27d0",
   "metadata": {},
   "outputs": [],
   "source": [
    "len(filtered_stations)"
   ]
  },
  {
   "cell_type": "markdown",
   "id": "2da24859-4a7c-4b52-b50b-c27d8a822e57",
   "metadata": {},
   "source": [
    "<u>Number of removed stations:"
   ]
  },
  {
   "cell_type": "code",
   "execution_count": null,
   "id": "ebd86879-67c8-4e3d-90a6-a5882adc2b60",
   "metadata": {},
   "outputs": [],
   "source": [
    "len(removed_stations)"
   ]
  },
  {
   "cell_type": "markdown",
   "id": "f1e00cc4-c8bf-40e8-993b-93369f4ab680",
   "metadata": {},
   "source": [
    "<u>Percentage of removed stations:"
   ]
  },
  {
   "cell_type": "code",
   "execution_count": null,
   "id": "1500c76a-1f15-442f-aa60-84c31af8de8d",
   "metadata": {},
   "outputs": [],
   "source": [
    "round(len(removed_stations)/len(reliability_index), 3)"
   ]
  },
  {
   "cell_type": "code",
   "execution_count": null,
   "id": "dc7ab643-e772-4f1f-8d7a-454dfbeb0d12",
   "metadata": {},
   "outputs": [],
   "source": [
    "plot_stations_reliability_map(reliability_index)"
   ]
  },
  {
   "cell_type": "code",
   "execution_count": null,
   "id": "0e8ff900-d6fe-4634-988c-9d3afaa1a123",
   "metadata": {},
   "outputs": [],
   "source": [
    "reliability_Index['sens_reliability'].plot.hist(by=None, bins=20)"
   ]
  },
  {
   "cell_type": "code",
   "execution_count": null,
   "id": "7a030b6e-dae6-406e-921e-e5181120b9e8",
   "metadata": {},
   "outputs": [],
   "source": []
  }
 ],
 "metadata": {
  "kernelspec": {
   "display_name": "Python 3 (ipykernel)",
   "language": "python",
   "name": "python3"
  },
  "language_info": {
   "codemirror_mode": {
    "name": "ipython",
    "version": 3
   },
   "file_extension": ".py",
   "mimetype": "text/x-python",
   "name": "python",
   "nbconvert_exporter": "python",
   "pygments_lexer": "ipython3",
   "version": "3.10.10"
  }
 },
 "nbformat": 4,
 "nbformat_minor": 5
}
