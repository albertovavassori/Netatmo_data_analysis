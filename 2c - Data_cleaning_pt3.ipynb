{
 "cells": [
  {
   "cell_type": "markdown",
   "id": "c3e77808-86e1-484b-aeb8-5f2886de1aa8",
   "metadata": {},
   "source": [
    "<div class=\"alert alert-info\">\n",
    "<u><strong>Authors:</strong></u> <b>Ahmed Mukhtar</b> (ahmed.mukhtar@mail.polimi.it),and <b>Ahmed Yassin</b> (ahmedmohamed1@mail.polimi.it) - 2023 - Politecnico di Milano, Italy <br>\n",
    "</div>"
   ]
  },
  {
   "cell_type": "markdown",
   "id": "09913a2e-5e1d-446c-979b-4d835c9c2ec6",
   "metadata": {},
   "source": [
    "## Netatmo temperature time series cleaning (part 3)"
   ]
  },
  {
   "cell_type": "code",
   "execution_count": null,
   "id": "66f0ed13-934a-4f0e-a71c-7bec31fab424",
   "metadata": {},
   "outputs": [],
   "source": [
    "import os\n",
    "import folium\n",
    "import pandas as pd\n",
    "import geopandas as gpd\n",
    "import plotly.graph_objects as go\n",
    "from shapely.geometry import Point\n",
    "import ipywidgets as widgets\n",
    "%load_ext autoreload"
   ]
  },
  {
   "cell_type": "code",
   "execution_count": null,
   "id": "fc7e42df-5999-417e-b786-5f2a8b25587a",
   "metadata": {},
   "outputs": [],
   "source": [
    "year_w = widgets.Dropdown(\n",
    "    options = [i for i in range(2014, 2024)],\n",
    "    value = 2022,\n",
    "    description = 'Year:',\n",
    "    disabled = False,\n",
    "    layout = {'width': 'max-content'},\n",
    "    style = {'description_width': 'initial'}\n",
    ")\n",
    "year_w"
   ]
  },
  {
   "cell_type": "code",
   "execution_count": null,
   "id": "0ef361fa-01d9-43e8-899c-8c2561bdaa16",
   "metadata": {},
   "outputs": [],
   "source": [
    "year = year_w.value"
   ]
  },
  {
   "cell_type": "code",
   "execution_count": null,
   "id": "2bc795a2-acd3-4dcb-9398-adb70a0194c8",
   "metadata": {},
   "outputs": [],
   "source": [
    "folder_path = 'Netatmo_csv_files/'"
   ]
  },
  {
   "cell_type": "markdown",
   "id": "ce470bf3-15d3-4f4d-abc0-1bf9954142bd",
   "metadata": {},
   "source": [
    "## Reliability_index (year)"
   ]
  },
  {
   "cell_type": "code",
   "execution_count": null,
   "id": "ebfe4ea5-bd53-4d9a-ae33-212bcda068d8",
   "metadata": {},
   "outputs": [],
   "source": [
    "def count_observations(folder_path, year,file_type):\n",
    "    # Create an empty DataFrame to store the information\n",
    "    columns = ['module_id', 'device_id', 'lat', 'long', 'timezone', 'country', 'altitude', 'city', 'street', 'geometry']\n",
    "    empty_df = pd.DataFrame(columns=columns)\n",
    "\n",
    "    if year == 2023:\n",
    "        months = range(1, 10)  # January to September\n",
    "    else:\n",
    "        months = range(1, 13)  # All months\n",
    "\n",
    "    for month in months:\n",
    "        # Read the CSV file\n",
    "        files_path = (folder_path + f'temp_Net_milan_{year}-{month}_{file_type}.csv')\n",
    "        data = pd.read_csv(files_path)\n",
    "        #count the no.observations for each sensor by month\n",
    "        sensor_counts = data.groupby('module_id').size().reset_index(name=f'n.obs_{month}')\n",
    "        df = pd.merge(sensor_counts, data.drop_duplicates('module_id')[columns], on='module_id', how='left')\n",
    "        globals()[f'df_{month}'] = df # Get the dataframe df_month\n",
    "\n",
    "    for month in months:\n",
    "        # Iterate over df_1 to df_12 to extract module information\n",
    "        df = globals()[f'df_{month}']  # Get the dataframe df_month\n",
    "        empty_df = pd.concat([empty_df, df[columns]], ignore_index=True)\n",
    "\n",
    "    empty_df.drop_duplicates(subset='module_id', inplace=True)\n",
    "    empty_df.reset_index(drop=True, inplace=True)\n",
    "\n",
    "    result = empty_df\n",
    "\n",
    "    for month in months:\n",
    "        df_temp = globals()[f\"df_{month}\"][[ 'module_id', f'n.obs_{month}']]  \n",
    "        result = pd.merge(result, df_temp, on='module_id', how='outer')\n",
    "\n",
    "    result = result.fillna(0)\n",
    "    result['total_obs'] = result[[f'n.obs_{month}' for month in months]].sum(axis=1)\n",
    "\n",
    "    return result"
   ]
  },
  {
   "cell_type": "code",
   "execution_count": null,
   "id": "b583a51b-1e13-4188-b93b-04350353dbf9",
   "metadata": {},
   "outputs": [],
   "source": [
    "sens_count_initial = count_observations(folder_path, year,'clip')"
   ]
  },
  {
   "cell_type": "code",
   "execution_count": null,
   "id": "19e3fd1f-c36a-47e3-b566-1e76c09ffe72",
   "metadata": {},
   "outputs": [],
   "source": [
    "sens_count_initial"
   ]
  },
  {
   "cell_type": "code",
   "execution_count": null,
   "id": "21ca5b6d-5f53-46c3-b089-e803ee63e665",
   "metadata": {},
   "outputs": [],
   "source": [
    "sens_count_cleaned = count_observations(folder_path, year,'clean')"
   ]
  },
  {
   "cell_type": "code",
   "execution_count": null,
   "id": "e6e8b4f8-9038-493a-a361-8ee344de15bb",
   "metadata": {},
   "outputs": [],
   "source": [
    "sens_count_cleaned"
   ]
  },
  {
   "cell_type": "code",
   "execution_count": null,
   "id": "1d6d99fc-35c0-4ae6-beaf-d6b0575c36fa",
   "metadata": {},
   "outputs": [],
   "source": [
    "if year == 2023:\n",
    "    months = range(1, 10)  # January to September\n",
    "else:\n",
    "    months = range(1, 13)  # All months\n",
    "    \n",
    "# List of columns to merge from df1 to df2\n",
    "columns_to_merge = [f'n.obs_{month}' for month in months] + [\"total_obs\"]\n",
    "\n",
    "# First, merge only the specified columns from df1 to df2 based on the common key\n",
    "merged_columns = pd.merge(sens_count_initial[['module_id'] + columns_to_merge], \n",
    "                          sens_count_cleaned[['module_id']], \n",
    "                          on='module_id', \n",
    "                          how='left')\n",
    "\n",
    "# Rename the merged columns\n",
    "rename_mapping = {f'n.obs_{month}': f'n.obs_{month}_init' for month in months}\n",
    "rename_mapping['total_obs'] = 'total_obs_init'\n",
    "merged_columns = merged_columns.rename(columns=rename_mapping)\n",
    "\n",
    "# Merge the merged_columns back to df2 based on the common key\n",
    "sens_count_merged = pd.merge(sens_count_cleaned, \n",
    "                             merged_columns, \n",
    "                             on='module_id', \n",
    "                             how='left')\n",
    "\n",
    "# Now sens_count_merged contains the specified columns from sens_count_initial merged to sens_count_cleaned\n",
    "\n",
    "for month in months:\n",
    "    sens_count_merged[f'removed_data-{month}'] = sens_count_merged[f'n.obs_{month}_init']-sens_count_merged[f'n.obs_{month}'] \n",
    "    sens_count_merged[f'percentage-{month}'] = sens_count_merged[f'removed_data-{month}'] / sens_count_merged[f'n.obs_{month}_init']\n",
    "    #sens_count_merged.drop(columns=[f'n_obs-{month}',f'n_obs-{month}_init'], inplace=True)\n",
    "sens_count_merged[f'removed_data-{year}'] = sens_count_merged['total_obs_init'] - sens_count_merged['total_obs'] \n",
    "sens_count_merged[f'percentage-{year}'] = sens_count_merged[f'removed_data-{year}'] / sens_count_merged['total_obs_init']\n",
    "#sens_count_merged.drop(columns=['total_obs','total_obs_init'], inplace=True)\n",
    "sens_count_merged = sens_count_merged.fillna(0)\n",
    "\n",
    "for month in months:\n",
    "    sens_count_merged[f'sens_reliability-{month}'] = sens_count_merged[f'n.obs_{month}'] / sens_count_merged[f'n.obs_{month}_init']\n",
    "    sens_count_merged.drop(columns=[f'n.obs_{month}',f'n.obs_{month}_init'], inplace=True)\n",
    "sens_count_merged[f'sens_reliability-{year}'] = sens_count_merged['total_obs'] / sens_count_merged['total_obs_init']\n",
    "sens_count_merged.drop(columns=['total_obs','total_obs_init'], inplace=True)\n",
    "sens_count_merged = sens_count_merged.fillna(0)"
   ]
  },
  {
   "cell_type": "code",
   "execution_count": null,
   "id": "7aba1d0c-d91a-4a6a-ae24-a5d261261bec",
   "metadata": {},
   "outputs": [],
   "source": [
    "sens_count_merged"
   ]
  },
  {
   "cell_type": "code",
   "execution_count": null,
   "id": "7a810433-f618-45e4-be54-e31f44b69746",
   "metadata": {},
   "outputs": [],
   "source": [
    "def plot_map(selected_df, year, aoi_filepath='aoi.gpkg'):\n",
    "    \n",
    "    try:\n",
    "        aoi_gdf = gpd.read_file(aoi_filepath)\n",
    "    except Exception as e:\n",
    "        print(f\"Failed to read file {aoi_filepath}: {e}\")\n",
    "        return None\n",
    "\n",
    "    # Create 'geometry' column as Point objects\n",
    "    geometry_array = [Point(xy) for xy in zip(selected_df['long'], selected_df['lat'])]\n",
    "    # Create a GeoDataFrame\n",
    "    selected_gdf = gpd.GeoDataFrame(selected_df, geometry=geometry_array, crs='EPSG:4326')\n",
    "\n",
    "    # Set up the base map\n",
    "    m = folium.Map(\n",
    "        location=[selected_gdf.geometry.y.mean(), selected_gdf.geometry.x.mean()],\n",
    "        zoom_start=9,\n",
    "        tiles='OpenStreetMap')\n",
    "\n",
    "    folium.GeoJson(\n",
    "        aoi_gdf,\n",
    "        name='Area of Interest',\n",
    "        style_function=lambda x: {'fillColor': 'SkyBlue', 'color': 'Blue', 'fillOpacity': 0.6, 'weight': 2}\n",
    "    ).add_to(m)\n",
    "\n",
    "    # Classify 'sens_reliability' into categories\n",
    "    bins = [0, 0.25, 0.5, 0.75, 1]\n",
    "    labels = ['0-0.25', '0.25-0.5', '0.5-0.75', '0.75-1']\n",
    "    color_map = {\n",
    "        '0-0.25': 'black',\n",
    "        '0.25-0.5': 'red',\n",
    "        '0.5-0.75': 'yellow',\n",
    "        '0.75-1': 'green'\n",
    "    }\n",
    "    selected_gdf['Reliability Class'] = pd.cut(selected_gdf[f'sens_reliability-{year}'], bins=bins, labels=labels, include_lowest=True)\n",
    "\n",
    "    # Apply custom colors based on 'Reliability Class'\n",
    "    for _, row in selected_gdf.iterrows():\n",
    "        popup_text = f'Station: {row[\"module_id\"]} ({row[\"city\"]},{row[\"street\"]})\\nReliability:({row[f\"sens_reliability-{year}\"]:.2f})'\n",
    "        folium.CircleMarker(\n",
    "            location=[row.geometry.y, row.geometry.x],\n",
    "            radius=5,\n",
    "            color=color_map[row['Reliability Class']],\n",
    "            fill=True,\n",
    "            fill_color=color_map[row['Reliability Class']],\n",
    "            fill_opacity=0.7,\n",
    "            popup= popup_text\n",
    "            #popup=f'Reliability: {row[\"sens_reliability\"]}'\n",
    "        ).add_to(m)\n",
    "\n",
    "    # Add a legend\n",
    "    legend_html = '''\n",
    "     <div style=\"position: fixed; \n",
    "                 bottom: 15px; right: 10px; width: 160px; height: 110px; \n",
    "                 border:2px solid black; background-color: white; z-index:9999; font-size:14px;\n",
    "                 \"&nbsp; <b>Stations_reliability</b><br>\n",
    "                 &nbsp; <i style=\"background-color:black;\">&nbsp;&nbsp;&nbsp;&nbsp;</i> unreliable <br>\n",
    "                 &nbsp; <i style=\"background-color:red;\">&nbsp;&nbsp;&nbsp;&nbsp;</i> low(0.25-0.5) <br>\n",
    "                 &nbsp; <i style=\"background-color:yellow;\">&nbsp;&nbsp;&nbsp;&nbsp;</i> moderate(0.5-0.75) <br>\n",
    "                 &nbsp; <i style=\"background-color:green;\">&nbsp;&nbsp;&nbsp;&nbsp;</i> high(0.75-1.0)\n",
    "              </div>\n",
    "     '''\n",
    "    m.get_root().html.add_child(folium.Element(legend_html))\n",
    "    \n",
    "    # Add layer control\n",
    "    folium.LayerControl().add_to(m)\n",
    "\n",
    "    return m\n"
   ]
  },
  {
   "cell_type": "code",
   "execution_count": null,
   "id": "a1963516-ded1-4278-8dff-08dbf010c608",
   "metadata": {
    "scrolled": true
   },
   "outputs": [],
   "source": [
    "plot_map(sens_count_merged, year)"
   ]
  },
  {
   "cell_type": "markdown",
   "id": "cc16718f-711a-4b44-ae2c-30d518fa1619",
   "metadata": {},
   "source": [
    "## Reliability_index (month)"
   ]
  },
  {
   "cell_type": "code",
   "execution_count": null,
   "id": "c6df3acd-b765-4630-9335-ed4733730e7f",
   "metadata": {},
   "outputs": [],
   "source": [
    "month_w = widgets.Dropdown(\n",
    "    options = [i for i in range(1, 13)],\n",
    "    value = 1,\n",
    "    description = 'Month:',\n",
    "    disabled = False,\n",
    "    layout = {'width': 'max-content'},\n",
    "    style = {'description_width': 'initial'}\n",
    ")\n",
    "month_w"
   ]
  },
  {
   "cell_type": "code",
   "execution_count": null,
   "id": "4791e221-5ede-48dd-9032-68edb336772e",
   "metadata": {},
   "outputs": [],
   "source": [
    "month = month_w.value"
   ]
  },
  {
   "cell_type": "code",
   "execution_count": null,
   "id": "85f3d836-aa5f-4390-b5c3-460efead1364",
   "metadata": {},
   "outputs": [],
   "source": [
    "def plot_map_montly(selected_df, month, aoi_filepath='aoi.gpkg'):\n",
    "    \n",
    "    try:\n",
    "        aoi_gdf = gpd.read_file(aoi_filepath)\n",
    "    except Exception as e:\n",
    "        print(f\"Failed to read file {aoi_filepath}: {e}\")\n",
    "        return None\n",
    "\n",
    "    # Create 'geometry' column as Point objects\n",
    "    geometry_array = [Point(xy) for xy in zip(selected_df['long'], selected_df['lat'])]\n",
    "    # Create a GeoDataFrame\n",
    "    selected_gdf = gpd.GeoDataFrame(selected_df, geometry=geometry_array, crs='EPSG:4326')\n",
    "\n",
    "    # Set up the base map\n",
    "    m = folium.Map(\n",
    "        location=[selected_gdf.geometry.y.mean(), selected_gdf.geometry.x.mean()],\n",
    "        zoom_start=9,\n",
    "        tiles='OpenStreetMap')\n",
    "\n",
    "    folium.GeoJson(\n",
    "        aoi_gdf,\n",
    "        name='Area of Interest',\n",
    "        style_function=lambda x: {'fillColor': 'SkyBlue', 'color': 'Blue', 'fillOpacity': 0.6, 'weight': 2}\n",
    "    ).add_to(m)\n",
    "\n",
    "    # Classify 'sens_reliability' into categories\n",
    "    bins = [0, 0.25, 0.5, 0.75, 1]\n",
    "    labels = ['0-0.25', '0.25-0.5', '0.5-0.75', '0.75-1']\n",
    "    color_map = {\n",
    "        '0-0.25': 'black',\n",
    "        '0.25-0.5': 'red',\n",
    "        '0.5-0.75': 'yellow',\n",
    "        '0.75-1': 'green'\n",
    "    }\n",
    "    selected_gdf['Reliability Class'] = pd.cut(selected_gdf[f'sens_reliability-{month}'], bins=bins, labels=labels, include_lowest=True)\n",
    "\n",
    "    # Apply custom colors based on 'Reliability Class'\n",
    "    for _, row in selected_gdf.iterrows():\n",
    "        popup_text = f'Station: {row[\"module_id\"]} ({row[\"city\"]},{row[\"street\"]})\\nReliability:({row[f\"sens_reliability-{month}\"]:.2f})'\n",
    "        folium.CircleMarker(\n",
    "            location=[row.geometry.y, row.geometry.x],\n",
    "            radius=5,\n",
    "            color=color_map[row['Reliability Class']],\n",
    "            fill=True,\n",
    "            fill_color=color_map[row['Reliability Class']],\n",
    "            fill_opacity=0.7,\n",
    "            popup= popup_text\n",
    "            #popup=f'Reliability: {row[\"sens_reliability\"]}'\n",
    "        ).add_to(m)\n",
    "\n",
    "    # Add a legend\n",
    "    legend_html = '''\n",
    "     <div style=\"position: fixed; \n",
    "                 bottom: 15px; right: 10px; width: 160px; height: 110px; \n",
    "                 border:2px solid black; background-color: white; z-index:9999; font-size:14px;\n",
    "                 \"&nbsp; <b>Stations_reliability</b><br>\n",
    "                 &nbsp; <i style=\"background-color:black;\">&nbsp;&nbsp;&nbsp;&nbsp;</i> unreliable <br>\n",
    "                 &nbsp; <i style=\"background-color:red;\">&nbsp;&nbsp;&nbsp;&nbsp;</i> low(0.25-0.5) <br>\n",
    "                 &nbsp; <i style=\"background-color:yellow;\">&nbsp;&nbsp;&nbsp;&nbsp;</i> moderate(0.5-0.75) <br>\n",
    "                 &nbsp; <i style=\"background-color:green;\">&nbsp;&nbsp;&nbsp;&nbsp;</i> high(0.75-1.0)\n",
    "              </div>\n",
    "     '''\n",
    "    m.get_root().html.add_child(folium.Element(legend_html))\n",
    "    \n",
    "    # Add layer control\n",
    "    folium.LayerControl().add_to(m)\n",
    "\n",
    "    return m\n"
   ]
  },
  {
   "cell_type": "code",
   "execution_count": null,
   "id": "575dafab-9db7-4fd0-ad47-85a44759446a",
   "metadata": {},
   "outputs": [],
   "source": [
    "plot_map_montly(sens_count_merged, month)"
   ]
  },
  {
   "cell_type": "code",
   "execution_count": null,
   "id": "1cce5b78-b569-4aaf-96c5-43b6d5dd4625",
   "metadata": {},
   "outputs": [],
   "source": []
  }
 ],
 "metadata": {
  "kernelspec": {
   "display_name": "Python 3 (ipykernel)",
   "language": "python",
   "name": "python3"
  },
  "language_info": {
   "codemirror_mode": {
    "name": "ipython",
    "version": 3
   },
   "file_extension": ".py",
   "mimetype": "text/x-python",
   "name": "python",
   "nbconvert_exporter": "python",
   "pygments_lexer": "ipython3",
   "version": "3.10.10"
  }
 },
 "nbformat": 4,
 "nbformat_minor": 5
}
