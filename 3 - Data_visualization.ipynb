{
 "cells": [
  {
   "cell_type": "markdown",
   "id": "618d490a-cfc7-4ce1-9999-2f9912d2375c",
   "metadata": {},
   "source": [
    "<div class=\"alert alert-info\">\n",
    "<u><strong>Authors:</strong></u> <b>Ahmed Mukhtar</b> (ahmed.mukhtar@mail.polimi.it),and <b>Ahmed Yassin</b> (ahmedmohamed1@mail.polimi.it) - 2023 - Politecnico di Milano, Italy <br>\n",
    "</div>"
   ]
  },
  {
   "cell_type": "markdown",
   "id": "40e61151-903c-40c2-9e42-22e78a1562f2",
   "metadata": {},
   "source": [
    "# Visualization of Netatmo data"
   ]
  },
  {
   "cell_type": "code",
   "execution_count": null,
   "id": "5a6216ac-daa4-4ba1-b929-1ac3336b22a4",
   "metadata": {},
   "outputs": [],
   "source": [
    "import pandas as pd\n",
    "import geopandas as gpd\n",
    "import ipywidgets as widgets\n",
    "import datetime\n",
    "from IPython.display import display"
   ]
  },
  {
   "cell_type": "code",
   "execution_count": null,
   "id": "7ed30a2f-c32c-421a-a3d1-58c5a87c4b1f",
   "metadata": {
    "tags": []
   },
   "outputs": [],
   "source": [
    "import analysis_functions as af\n",
    "%load_ext autoreload"
   ]
  },
  {
   "cell_type": "code",
   "execution_count": null,
   "id": "a5c45d2c-a7f3-4e98-925f-d32283c58514",
   "metadata": {},
   "outputs": [],
   "source": [
    "year_w = widgets.Dropdown(\n",
    "    options = [i for i in range(2014, 2024)],\n",
    "    value = 2023,\n",
    "    description = 'Year:',\n",
    "    disabled = False,\n",
    "    layout = {'width': 'max-content'},\n",
    "    style = {'description_width': 'initial'}\n",
    ")\n",
    "year_w"
   ]
  },
  {
   "cell_type": "code",
   "execution_count": null,
   "id": "18ec8734-298d-4d27-999a-5233254717b6",
   "metadata": {},
   "outputs": [],
   "source": [
    "year = year_w.value"
   ]
  },
  {
   "cell_type": "code",
   "execution_count": null,
   "id": "250b1872-f75f-4b2c-9857-b78682a42183",
   "metadata": {},
   "outputs": [],
   "source": [
    "month_w = widgets.Dropdown(\n",
    "    options = [i for i in range(1, 13)],\n",
    "    value = 1,\n",
    "    description = 'Month:',\n",
    "    disabled = False,\n",
    "    layout = {'width': 'max-content'},\n",
    "    style = {'description_width': 'initial'}\n",
    ")\n",
    "month_w"
   ]
  },
  {
   "cell_type": "code",
   "execution_count": null,
   "id": "90f6fca3-edd0-4fbe-871e-0ed297349925",
   "metadata": {},
   "outputs": [],
   "source": [
    "month = month_w.value"
   ]
  },
  {
   "cell_type": "code",
   "execution_count": null,
   "id": "c56e6ebc-5566-4626-aa78-1ac5a00ca829",
   "metadata": {},
   "outputs": [],
   "source": [
    "netatmo_out_path = './Netatmo_csv_files/'"
   ]
  },
  {
   "cell_type": "markdown",
   "id": "99fc09b1-9719-499a-8c54-8db024426921",
   "metadata": {
    "jp-MarkdownHeadingCollapsed": true,
    "tags": []
   },
   "source": [
    "# <u>Compute and plot **daily** statistics"
   ]
  },
  {
   "cell_type": "markdown",
   "id": "103e2f12-4883-47e8-8991-56baba4262c7",
   "metadata": {},
   "source": [
    "Display the map with the daily statistics (**min, max, mean, std, median**) and plot the time series of each sensor at the end of each cleaning step of Netatmo data considering:\n",
    "1) Netatmo raw data (before cleaning)\n",
    "2) After removing uncorrelated stations\n",
    "3) After removing the unrealistic values\n",
    "4) After removing the unbiased stations\n",
    "5) After removing the local outliers\n",
    "6) After removing the unreliable stations"
   ]
  },
  {
   "cell_type": "markdown",
   "id": "4edb8b63-462c-48c3-9af2-78620da9e7ca",
   "metadata": {
    "jp-MarkdownHeadingCollapsed": true,
    "tags": []
   },
   "source": [
    "## 1. Before cleaning"
   ]
  },
  {
   "cell_type": "markdown",
   "id": "32962d20-71fa-45e7-a49c-e3f6ab7c9616",
   "metadata": {},
   "source": [
    "Create a daily statistics dataframe with the (*min*, *max*, *mean*, *std*, *median*) temperature values of each sensor:"
   ]
  },
  {
   "cell_type": "code",
   "execution_count": null,
   "id": "d57d8dff-3232-46cc-bdbc-564fd0ca038e",
   "metadata": {},
   "outputs": [],
   "source": [
    "netatmo_raw_data = af.resample_df_daily(netatmo_out_path, year, month, 'clip')"
   ]
  },
  {
   "cell_type": "markdown",
   "id": "12bf99f9-f662-494f-9345-d670db22d799",
   "metadata": {},
   "source": [
    "Seprate the dataframe by day and get the temperature values of that day for each sensor:"
   ]
  },
  {
   "cell_type": "code",
   "execution_count": null,
   "id": "b25beb1b-60fa-4b23-9fa0-a643b7073c41",
   "metadata": {},
   "outputs": [],
   "source": [
    "#netatmo_raw_data"
   ]
  },
  {
   "cell_type": "code",
   "execution_count": null,
   "id": "e2ad1ebe-5f8b-4489-a271-52bfed139304",
   "metadata": {},
   "outputs": [],
   "source": [
    "date_dropdown1, separate_dataframes1 = af.create_date_dropdown(netatmo_raw_data)\n",
    "date_dropdown1"
   ]
  },
  {
   "cell_type": "code",
   "execution_count": null,
   "id": "7f6d665a-2998-4d6c-8b21-2d918c4350e2",
   "metadata": {},
   "outputs": [],
   "source": [
    "date_dropdown1.value"
   ]
  },
  {
   "cell_type": "code",
   "execution_count": null,
   "id": "f35ec17b-aba0-405b-af54-6ed0d5930e15",
   "metadata": {},
   "outputs": [],
   "source": [
    "before_cleaning = separate_dataframes1.get(date_dropdown1.value)"
   ]
  },
  {
   "cell_type": "markdown",
   "id": "2ec82184-3b83-477b-b1d9-116f3f56c4d7",
   "metadata": {},
   "source": [
    "### Plot histogram "
   ]
  },
  {
   "cell_type": "code",
   "execution_count": null,
   "id": "328a04d3-1df9-4b69-af01-29a598ef91a4",
   "metadata": {
    "scrolled": true
   },
   "outputs": [],
   "source": [
    "before_cleaning['Median'].plot.hist(by=None, bins=30)"
   ]
  },
  {
   "cell_type": "markdown",
   "id": "dc3e4c25-1755-4650-bb05-951e933eac8b",
   "metadata": {},
   "source": [
    "### Plot map\n",
    "display a map with the temperature values of each sensor on the selected day"
   ]
  },
  {
   "cell_type": "code",
   "execution_count": null,
   "id": "b3b6b434-d30b-4907-bb65-6b160d683b95",
   "metadata": {},
   "outputs": [],
   "source": [
    "af.plot_median_temp_map(before_cleaning)"
   ]
  },
  {
   "cell_type": "markdown",
   "id": "da6444da-7e5b-4584-b00f-d0b480add43e",
   "metadata": {
    "tags": []
   },
   "source": [
    "### Plot stations statistics\n",
    "display the temperature statistics for each sensor on the selected day"
   ]
  },
  {
   "cell_type": "code",
   "execution_count": null,
   "id": "b28b3d14-e37c-4106-8be8-b9f7e4d0cbda",
   "metadata": {},
   "outputs": [],
   "source": [
    "af.plot_daily_statistics(before_cleaning, date_dropdown1)"
   ]
  },
  {
   "cell_type": "markdown",
   "id": "3d872b6f-5a38-45ff-bffb-0128af20a9d5",
   "metadata": {
    "tags": []
   },
   "source": [
    "### Plot time series\n",
    "plot the time series of the selected station on a monthly basis"
   ]
  },
  {
   "cell_type": "code",
   "execution_count": null,
   "id": "67c6e637-097d-41b2-bbd5-311dbabda4c8",
   "metadata": {},
   "outputs": [],
   "source": [
    "sensor_dropdown1, separated_dataframe1 = af.create_sensors_dropdown(netatmo_raw_data)\n",
    "sensor_dropdown1"
   ]
  },
  {
   "cell_type": "code",
   "execution_count": null,
   "id": "6ab07c3a-e8d2-4b3d-bde5-da2bcf5d8c4b",
   "metadata": {},
   "outputs": [],
   "source": [
    "sensor_dropdown1.value"
   ]
  },
  {
   "cell_type": "code",
   "execution_count": null,
   "id": "8dadffcd-dc1e-4a2e-9d1a-d1c2f2496aee",
   "metadata": {},
   "outputs": [],
   "source": [
    "selected_dataframe1 = separated_dataframe1.get(sensor_dropdown1.value)"
   ]
  },
  {
   "cell_type": "code",
   "execution_count": null,
   "id": "735cd27c-3080-4f64-9805-37c31e2674f9",
   "metadata": {},
   "outputs": [],
   "source": [
    "af.plot_time_series_m(selected_dataframe1,sensor_dropdown1, month, year)"
   ]
  },
  {
   "cell_type": "markdown",
   "id": "e85e704b-20b8-41e2-abef-174cdfb3be2b",
   "metadata": {
    "jp-MarkdownHeadingCollapsed": true,
    "tags": []
   },
   "source": [
    "## 2. After removing uncorrelated stations"
   ]
  },
  {
   "cell_type": "markdown",
   "id": "92127322-5a04-40c2-816d-ea650ee6cc1b",
   "metadata": {},
   "source": [
    "Create a daily statistics dataframe with the (*min*, *max*, *mean*, *std*, *median*) temperature values of each sensor:"
   ]
  },
  {
   "cell_type": "code",
   "execution_count": null,
   "id": "4be3bbe8-5a9c-4318-bdd6-46ab5d3d1683",
   "metadata": {},
   "outputs": [],
   "source": [
    "netatmo_data_high_corr = af.resample_df_daily(netatmo_out_path, year, month, 'high_corr')"
   ]
  },
  {
   "cell_type": "markdown",
   "id": "8154caf7-9c6d-4104-a322-7e4079ad3525",
   "metadata": {},
   "source": [
    "Seprate the dataframe by day and get the temperature values of that day for each sensor:"
   ]
  },
  {
   "cell_type": "code",
   "execution_count": null,
   "id": "ff3c8e9c-009b-40b5-8cc3-77b00f4c7eb8",
   "metadata": {},
   "outputs": [],
   "source": [
    "date_dropdown2, separate_dataframes2 = af.create_date_dropdown(netatmo_data_high_corr)\n",
    "date_dropdown2"
   ]
  },
  {
   "cell_type": "code",
   "execution_count": null,
   "id": "4a2cbb16-4eab-4416-af51-1c9f432f13f0",
   "metadata": {},
   "outputs": [],
   "source": [
    "date_dropdown2.value"
   ]
  },
  {
   "cell_type": "code",
   "execution_count": null,
   "id": "0d658bf9-3541-48d7-80cf-5208176d95bb",
   "metadata": {},
   "outputs": [],
   "source": [
    "uncorrelated_stations_removed = separate_dataframes2.get(date_dropdown2.value)"
   ]
  },
  {
   "cell_type": "markdown",
   "id": "94c61852-86a0-462f-98ca-58623ad21d23",
   "metadata": {
    "jp-MarkdownHeadingCollapsed": true,
    "tags": []
   },
   "source": [
    "### Plot histogram "
   ]
  },
  {
   "cell_type": "code",
   "execution_count": null,
   "id": "db749e9f-d73e-4ad8-a861-91ab9d38934f",
   "metadata": {},
   "outputs": [],
   "source": [
    "uncorrelated_stations_removed['Median'].plot.hist(by=None, bins=30)"
   ]
  },
  {
   "cell_type": "markdown",
   "id": "b3cf27d9-067b-4988-87fd-a6a02ed75e2b",
   "metadata": {
    "jp-MarkdownHeadingCollapsed": true,
    "tags": []
   },
   "source": [
    "### Plot map\n",
    "display a map with the temperature values of each sensor on the selected day"
   ]
  },
  {
   "cell_type": "code",
   "execution_count": null,
   "id": "1feee361-03a7-4e24-8457-c31e8b980b47",
   "metadata": {},
   "outputs": [],
   "source": [
    "af.plot_median_temp_map(uncorrelated_stations_removed)"
   ]
  },
  {
   "cell_type": "markdown",
   "id": "4357dd16-4d74-4d39-9d56-cdf23748a0fd",
   "metadata": {
    "jp-MarkdownHeadingCollapsed": true,
    "tags": []
   },
   "source": [
    "### Plot stations statistics\n",
    "display the temperature statistics for each sensor on the selected day"
   ]
  },
  {
   "cell_type": "code",
   "execution_count": null,
   "id": "f5bf8d96-ce28-485b-be28-890361b6e27f",
   "metadata": {},
   "outputs": [],
   "source": [
    "af.plot_daily_statistics(uncorrelated_stations_removed, date_dropdown2)"
   ]
  },
  {
   "cell_type": "markdown",
   "id": "119b2733-9b03-4068-b132-757044f04bc7",
   "metadata": {
    "jp-MarkdownHeadingCollapsed": true,
    "tags": []
   },
   "source": [
    "## 3. After removing the unrealistic values"
   ]
  },
  {
   "cell_type": "markdown",
   "id": "254fa82e-0b45-43a9-af2d-a967e2dc5fe6",
   "metadata": {},
   "source": [
    "Create a daily statistics dataframe with the (*min*, *max*, *mean*, *std*, *median*) temperature values of each sensor:"
   ]
  },
  {
   "cell_type": "code",
   "execution_count": null,
   "id": "c4e70694-ba66-4e68-a1ae-6a53d509b698",
   "metadata": {},
   "outputs": [],
   "source": [
    "netatmo_data_realistic_values = af.resample_df_daily(netatmo_out_path, year, month, 'realistic')"
   ]
  },
  {
   "cell_type": "markdown",
   "id": "bfaf70b4-55bd-43cc-bf88-436131a23724",
   "metadata": {},
   "source": [
    "Seprate the dataframe by day and get the temperature values of that day for each sensor:"
   ]
  },
  {
   "cell_type": "code",
   "execution_count": null,
   "id": "9acce434-b8ad-4695-aae4-9db714edbec4",
   "metadata": {},
   "outputs": [],
   "source": [
    "date_dropdown3, separate_dataframes3 = af.create_date_dropdown(netatmo_data_realistic_values)\n",
    "date_dropdown3"
   ]
  },
  {
   "cell_type": "code",
   "execution_count": null,
   "id": "00fb68c1-1500-4b02-9cc5-b045f93bebc2",
   "metadata": {},
   "outputs": [],
   "source": [
    "date_dropdown3.value"
   ]
  },
  {
   "cell_type": "code",
   "execution_count": null,
   "id": "b504d978-d180-449f-93e0-1804b8338713",
   "metadata": {},
   "outputs": [],
   "source": [
    "unrealistic_values_removed = separate_dataframes3.get(date_dropdown3.value)"
   ]
  },
  {
   "cell_type": "markdown",
   "id": "2b8e110e-79f0-4370-9904-c32e753f0157",
   "metadata": {
    "jp-MarkdownHeadingCollapsed": true
   },
   "source": [
    "### Plot histogram "
   ]
  },
  {
   "cell_type": "code",
   "execution_count": null,
   "id": "99d5fdae-027e-4e4e-8b2d-c9dce04a6a96",
   "metadata": {},
   "outputs": [],
   "source": [
    "unrealistic_values_removed['Median'].plot.hist(by=None, bins=30)"
   ]
  },
  {
   "cell_type": "markdown",
   "id": "3d333249-9de3-417b-b028-97d80e706de0",
   "metadata": {
    "jp-MarkdownHeadingCollapsed": true,
    "tags": []
   },
   "source": [
    "### Plot map\n",
    "display a map with the temperature values of each sensor on the selected day"
   ]
  },
  {
   "cell_type": "code",
   "execution_count": null,
   "id": "be8156ec-305d-4c8c-9b5c-1ad96c6030f7",
   "metadata": {},
   "outputs": [],
   "source": [
    "af.plot_median_temp_map(unrealistic_values_removed)"
   ]
  },
  {
   "cell_type": "markdown",
   "id": "3831ff24-323c-42c9-a364-2a2c00b3d2bd",
   "metadata": {
    "jp-MarkdownHeadingCollapsed": true,
    "tags": []
   },
   "source": [
    "### Plot stations statistics\n",
    "display the temperature statistics for each sensor on the selected day"
   ]
  },
  {
   "cell_type": "code",
   "execution_count": null,
   "id": "baa4ca9f-be63-4ddf-91e1-65ca80adfe13",
   "metadata": {},
   "outputs": [],
   "source": [
    "af.plot_daily_statistics(unrealistic_values_removed, date_dropdown3)"
   ]
  },
  {
   "cell_type": "markdown",
   "id": "91299250-4ea8-4e60-9327-5d7d5f0854a0",
   "metadata": {
    "jp-MarkdownHeadingCollapsed": true,
    "tags": []
   },
   "source": [
    "## 4. After removing the unbiased stations"
   ]
  },
  {
   "cell_type": "markdown",
   "id": "3d9f8f1a-3ad0-450f-9ee3-23f36a8de55c",
   "metadata": {},
   "source": [
    "create a daily statistics Dataframe with the (min, max, mean, std, median) temperature values of each sensor"
   ]
  },
  {
   "cell_type": "code",
   "execution_count": null,
   "id": "03df1c5c-d022-4952-b758-2f8980c6c8b6",
   "metadata": {},
   "outputs": [],
   "source": [
    "netatmo_data_unbiased = af.resample_df_daily(netatmo_out_path, year, month, 'unbiased')"
   ]
  },
  {
   "cell_type": "markdown",
   "id": "1d561eaa-5d68-4631-8ffe-4e59a0558ee4",
   "metadata": {},
   "source": [
    "seprate the dataframe by day and get the temperature values of that day for each sensor"
   ]
  },
  {
   "cell_type": "code",
   "execution_count": null,
   "id": "ea6b473a-6119-4435-905f-deb6f5591b53",
   "metadata": {},
   "outputs": [],
   "source": [
    "date_dropdown4, separate_dataframes4 = af.create_date_dropdown(netatmo_data_unbiased)\n",
    "date_dropdown4"
   ]
  },
  {
   "cell_type": "code",
   "execution_count": null,
   "id": "484c2df1-8ea4-4e29-9301-9c044de7a684",
   "metadata": {},
   "outputs": [],
   "source": [
    "date_dropdown4.value"
   ]
  },
  {
   "cell_type": "code",
   "execution_count": null,
   "id": "46b20452-f39d-4b05-b4d9-ec8f40038fd5",
   "metadata": {},
   "outputs": [],
   "source": [
    "biased_stations_removed = separate_dataframes4.get(date_dropdown4.value)"
   ]
  },
  {
   "cell_type": "markdown",
   "id": "5c3ba69e-f857-4b83-963b-22e10f73f6e1",
   "metadata": {},
   "source": [
    "### Plot histogram "
   ]
  },
  {
   "cell_type": "code",
   "execution_count": null,
   "id": "901d8624-0835-4362-bee0-b3672af7f588",
   "metadata": {},
   "outputs": [],
   "source": [
    "biased_stations_removed['Median'].plot.hist(by=None, bins=30)"
   ]
  },
  {
   "cell_type": "markdown",
   "id": "4987014a-48fc-4371-b262-49204037c02e",
   "metadata": {},
   "source": [
    "### Plot map\n",
    "display a map with the temperature values of each sensor on the selected day"
   ]
  },
  {
   "cell_type": "code",
   "execution_count": null,
   "id": "2f810d0f-3fdf-45ad-a9f7-143f3281599a",
   "metadata": {},
   "outputs": [],
   "source": [
    "af.plot_median_temp_map(biased_stations_removed)"
   ]
  },
  {
   "cell_type": "markdown",
   "id": "1af31046-8a0c-4fb2-8a84-8a462bd1fa2c",
   "metadata": {},
   "source": [
    "### Plot stations statistics\n",
    "display the temperature statistics for each sensor on the selected day"
   ]
  },
  {
   "cell_type": "code",
   "execution_count": null,
   "id": "31ccc2bf-af15-48da-89db-a49691224186",
   "metadata": {},
   "outputs": [],
   "source": [
    "af.plot_daily_statistics(biased_stations_removed, date_dropdown4)"
   ]
  },
  {
   "cell_type": "markdown",
   "id": "9c97c1e5-5c8f-47c0-b482-33f8d3c84b23",
   "metadata": {
    "jp-MarkdownHeadingCollapsed": true,
    "tags": []
   },
   "source": [
    "## 5. After removing the local outliers"
   ]
  },
  {
   "cell_type": "markdown",
   "id": "b8c92b82-0d1e-4f22-8826-b48092780bde",
   "metadata": {},
   "source": [
    "Create a daily statistics dataframe with the (*min*, *max*, *mean*, *std*, *median*) temperature values of each sensor:"
   ]
  },
  {
   "cell_type": "code",
   "execution_count": null,
   "id": "b850b170-f3fe-4e92-9c0e-67d66860ae21",
   "metadata": {},
   "outputs": [],
   "source": [
    "netatmo_data_cleaned = af.resample_df_daily(netatmo_out_path, year, month, 'clean')"
   ]
  },
  {
   "cell_type": "code",
   "execution_count": null,
   "id": "389bd973-3dd2-4fd0-bf84-b762eca781f3",
   "metadata": {},
   "outputs": [],
   "source": [
    "#netatmo_data_cleaned"
   ]
  },
  {
   "cell_type": "markdown",
   "id": "6ab89442-3d3e-4ab4-89f5-280eb859bd14",
   "metadata": {},
   "source": [
    "seprate the dataframe by day and get the temperature values of that day for each sensor"
   ]
  },
  {
   "cell_type": "code",
   "execution_count": null,
   "id": "c30aa1a7-41b3-4064-b4ae-d40859610d5a",
   "metadata": {},
   "outputs": [],
   "source": [
    "date_dropdown5, separate_dataframes5 = af.create_date_dropdown(netatmo_data_cleaned)\n",
    "date_dropdown5"
   ]
  },
  {
   "cell_type": "code",
   "execution_count": null,
   "id": "f2e41d54-7c54-437e-be70-b43934b3219e",
   "metadata": {},
   "outputs": [],
   "source": [
    "date_dropdown5.value"
   ]
  },
  {
   "cell_type": "code",
   "execution_count": null,
   "id": "18173e54-ba0c-426e-8549-7823fd86be85",
   "metadata": {},
   "outputs": [],
   "source": [
    "after_cleaning = separate_dataframes5.get(date_dropdown5.value)"
   ]
  },
  {
   "cell_type": "markdown",
   "id": "abe9db69-9377-4591-9a44-d661242a0e96",
   "metadata": {},
   "source": [
    "### Plot histogram "
   ]
  },
  {
   "cell_type": "code",
   "execution_count": null,
   "id": "753af0c3-3d7b-4156-9324-4dec9cfc7e98",
   "metadata": {},
   "outputs": [],
   "source": [
    "after_cleaning['Median'].plot.hist(by=None, bins=20)"
   ]
  },
  {
   "cell_type": "markdown",
   "id": "dfde6908-a4d4-4d25-bd6b-3ebd01bc2875",
   "metadata": {},
   "source": [
    "### Plot map\n",
    "display a map with the temperature values of each sensor on the selected day"
   ]
  },
  {
   "cell_type": "code",
   "execution_count": null,
   "id": "cf74716c-734a-4b3f-b893-68d8a2503175",
   "metadata": {},
   "outputs": [],
   "source": [
    "af.plot_median_temp_map(after_cleaning)"
   ]
  },
  {
   "cell_type": "markdown",
   "id": "73899509-831b-4158-a3d1-7c7b7f8b82ce",
   "metadata": {},
   "source": [
    "### Plot stations statistics\n",
    "display the temperature statistics for each sensor on the selected day"
   ]
  },
  {
   "cell_type": "code",
   "execution_count": null,
   "id": "e1ba3fbf-7c26-4eaf-b99f-6eadc01cd753",
   "metadata": {},
   "outputs": [],
   "source": [
    "af.plot_daily_statistics(after_cleaning, date_dropdown5)"
   ]
  },
  {
   "cell_type": "markdown",
   "id": "c3ee7513-3633-40d9-85b9-43d33a7a11d5",
   "metadata": {},
   "source": [
    "### Plot time series\n",
    "plot the time series of the selected station on a monthly basis"
   ]
  },
  {
   "cell_type": "code",
   "execution_count": null,
   "id": "f9d99dba-89f5-406c-89cf-1a33955b2457",
   "metadata": {},
   "outputs": [],
   "source": [
    "sensor_dropdown5, separated_dataframe5 = af.create_sensors_dropdown(netatmo_data_cleaned)\n",
    "sensor_dropdown5"
   ]
  },
  {
   "cell_type": "code",
   "execution_count": null,
   "id": "a8b7f261-7484-4b34-93ec-fa67e3617c5f",
   "metadata": {},
   "outputs": [],
   "source": [
    "date_dropdown5, separate_dataframes5 = af.create_date_dropdown(netatmo_data_cleaned)\n",
    "date_dropdown5"
   ]
  },
  {
   "cell_type": "code",
   "execution_count": null,
   "id": "84803cb2-b7f5-4876-ab3e-6a5c604dbe65",
   "metadata": {},
   "outputs": [],
   "source": [
    "sensor_dropdown5.value"
   ]
  },
  {
   "cell_type": "code",
   "execution_count": null,
   "id": "ee443a73-add2-434a-af50-6e59d4144472",
   "metadata": {},
   "outputs": [],
   "source": [
    "selected_dataframe5 = separated_dataframe5.get(sensor_dropdown5.value)"
   ]
  },
  {
   "cell_type": "code",
   "execution_count": null,
   "id": "8a06cb6a-1eab-4a5d-847f-fdba5002ca4b",
   "metadata": {},
   "outputs": [],
   "source": [
    "af.plot_time_series_m(selected_dataframe5, sensor_dropdown5, month, year)"
   ]
  },
  {
   "cell_type": "markdown",
   "id": "c863c7cf-dcb7-4d04-a347-84b65476390f",
   "metadata": {
    "jp-MarkdownHeadingCollapsed": true,
    "tags": []
   },
   "source": [
    "## 6. After removing the unreliable stations"
   ]
  },
  {
   "cell_type": "markdown",
   "id": "83fd0f96-c894-4aab-ad37-2a2834ecfd49",
   "metadata": {},
   "source": [
    "Create a daily statistics dataframe with the (*min*, *max*, *mean*, *std*, *median*) temperature values of each sensor:"
   ]
  },
  {
   "cell_type": "code",
   "execution_count": null,
   "id": "584d3fa2-97a1-4a04-a855-5f45bbc1d7d3",
   "metadata": {},
   "outputs": [],
   "source": [
    "netatmo_data_cleaned2 = af.resample_df_daily(netatmo_out_path, year, month, 'filtered')"
   ]
  },
  {
   "cell_type": "code",
   "execution_count": null,
   "id": "bc5bc90a-4f42-472f-a32d-75863d0e14b9",
   "metadata": {},
   "outputs": [],
   "source": [
    "#netatmo_data_cleaned2"
   ]
  },
  {
   "cell_type": "markdown",
   "id": "803f58d8-e2a6-400b-9c7c-8c70612018dd",
   "metadata": {},
   "source": [
    "seprate the dataframe by day and get the temperature values of that day for each sensor"
   ]
  },
  {
   "cell_type": "code",
   "execution_count": null,
   "id": "d8b1462c-06bf-4862-9e59-54ea6f085d87",
   "metadata": {},
   "outputs": [],
   "source": [
    "date_dropdown6, separate_dataframes6 = af.create_date_dropdown(netatmo_data_cleaned2)\n",
    "date_dropdown6"
   ]
  },
  {
   "cell_type": "code",
   "execution_count": null,
   "id": "2d20c81b-ac49-4fd9-8503-fc4506d9a96f",
   "metadata": {},
   "outputs": [],
   "source": [
    "date_dropdown6.value"
   ]
  },
  {
   "cell_type": "code",
   "execution_count": null,
   "id": "906353a9-c33a-4204-a77e-ee28d2522a8a",
   "metadata": {},
   "outputs": [],
   "source": [
    "after_cleaning2 = separate_dataframes6.get(date_dropdown6.value)"
   ]
  },
  {
   "cell_type": "markdown",
   "id": "9eacfb76-657b-416c-a64c-4c03bf58a865",
   "metadata": {},
   "source": [
    "### Plot histogram "
   ]
  },
  {
   "cell_type": "code",
   "execution_count": null,
   "id": "c7be62b7-b764-492f-96e1-36942b8ccc08",
   "metadata": {},
   "outputs": [],
   "source": [
    "after_cleaning2['Median'].plot.hist(by=None, bins=30)"
   ]
  },
  {
   "cell_type": "markdown",
   "id": "df7b9294-d7ea-42bf-ae35-c8afb56475c2",
   "metadata": {},
   "source": [
    "### Plot map\n",
    "display a map with the temperature values of each sensor on the selected day"
   ]
  },
  {
   "cell_type": "code",
   "execution_count": null,
   "id": "17d06c44-b210-4b5b-bb43-7eca42cb8106",
   "metadata": {},
   "outputs": [],
   "source": [
    "af.plot_median_temp_map(after_cleaning2)"
   ]
  },
  {
   "cell_type": "markdown",
   "id": "0f8a973a-f2f4-467a-8ba0-d8ba02933b96",
   "metadata": {},
   "source": [
    "### Plot stations statistics\n",
    "display the temperature statistics for each sensor on the selected day"
   ]
  },
  {
   "cell_type": "code",
   "execution_count": null,
   "id": "b08132bb-ceca-4b6d-acfd-42858ba50ab3",
   "metadata": {},
   "outputs": [],
   "source": [
    "af.plot_daily_statistics(after_cleaning2, date_dropdown6)"
   ]
  },
  {
   "cell_type": "markdown",
   "id": "d1da629d-bb57-4b99-866a-1696633fa8ed",
   "metadata": {},
   "source": [
    "### Plot time series\n",
    "plot the time series of the selected station on a monthly basis"
   ]
  },
  {
   "cell_type": "code",
   "execution_count": null,
   "id": "97c23e42-f506-488f-a14a-385d509a9dc6",
   "metadata": {},
   "outputs": [],
   "source": [
    "sensor_dropdown6, separated_dataframe6 = af.create_sensors_dropdown(after_cleaning2)\n",
    "sensor_dropdown6"
   ]
  },
  {
   "cell_type": "code",
   "execution_count": null,
   "id": "502b1a42-55cd-4ddf-888e-3ce11af0e69e",
   "metadata": {},
   "outputs": [],
   "source": [
    "sensor_dropdown6.value"
   ]
  },
  {
   "cell_type": "code",
   "execution_count": null,
   "id": "bc07c243-9502-4895-887c-b75c4a250348",
   "metadata": {},
   "outputs": [],
   "source": [
    "selected_dataframe6 = separated_dataframe6.get(sensor_dropdown6.value)"
   ]
  },
  {
   "cell_type": "code",
   "execution_count": null,
   "id": "f3f38b9f-a275-45d4-8d72-f44851f0db5c",
   "metadata": {},
   "outputs": [],
   "source": [
    "af.plot_time_series_m(selected_dataframe6, sensor_dropdown6, month, year)"
   ]
  },
  {
   "cell_type": "markdown",
   "id": "ca34786a-33af-41c7-ab2a-d571920ac3b4",
   "metadata": {
    "tags": []
   },
   "source": [
    "# <u>Compute and plot **monthly** statistics\n",
    "Display a map with monthly statistics (*min*, *max*, *mean*, *std*, *median*) and plot the time series of each sensor at the end of each cleaning step of Netatmo data considering:"
   ]
  },
  {
   "cell_type": "markdown",
   "id": "268ec5ff-9a6c-452e-95e5-3afd77da4ace",
   "metadata": {
    "tags": []
   },
   "source": [
    "## 1. Before cleaning"
   ]
  },
  {
   "cell_type": "markdown",
   "id": "ded42baf-3fca-46f6-906f-fef6885165e7",
   "metadata": {},
   "source": [
    "Create a daily statistics dataframe with the (*min*, *max*, *mean*, *std*, *median*) temperature values of each sensor:"
   ]
  },
  {
   "cell_type": "code",
   "execution_count": null,
   "id": "09b3ff2e-9093-42fa-9851-60be0eed73e3",
   "metadata": {},
   "outputs": [],
   "source": [
    "Netatmo_original = af.resample_df_montly(netatmo_out_path, year, month, 'clip')"
   ]
  },
  {
   "cell_type": "code",
   "execution_count": null,
   "id": "c3920245-7b5b-4a7f-bae8-1cc4321f29f7",
   "metadata": {},
   "outputs": [],
   "source": [
    "#Netatmo_original"
   ]
  },
  {
   "cell_type": "markdown",
   "id": "7193a09f-9528-448c-8e2f-9ab374ec4490",
   "metadata": {},
   "source": [
    "### Plot histogram "
   ]
  },
  {
   "cell_type": "code",
   "execution_count": null,
   "id": "e437a741-180a-42ce-b2a4-101258b396f7",
   "metadata": {},
   "outputs": [],
   "source": [
    "af.plot_histogram_clip(Netatmo_original, month, year)"
   ]
  },
  {
   "cell_type": "markdown",
   "id": "8fa17dd1-021e-4450-a5db-b851b796a7e3",
   "metadata": {},
   "source": [
    "### Plot map"
   ]
  },
  {
   "cell_type": "code",
   "execution_count": null,
   "id": "8448b0f5-9c6f-4a41-9000-68676c6e1996",
   "metadata": {},
   "outputs": [],
   "source": [
    "af.plot_median_temp_map(Netatmo_original)"
   ]
  },
  {
   "cell_type": "markdown",
   "id": "706cd960-e32c-4672-96dd-95caa5ef3a8c",
   "metadata": {},
   "source": [
    "### Plot temperature statistics\n",
    "display the temperature statistics for each sensor on the selected mont"
   ]
  },
  {
   "cell_type": "code",
   "execution_count": null,
   "id": "3d1bd441-7dae-43c6-9055-5c15f3c4c194",
   "metadata": {},
   "outputs": [],
   "source": [
    "af.plot_montly_statistics(Netatmo_original,month,year)"
   ]
  },
  {
   "cell_type": "markdown",
   "id": "3d7d85b1-c0cf-4e81-8d8a-08b454b6b9d9",
   "metadata": {
    "tags": []
   },
   "source": [
    "## 2. After cleaning"
   ]
  },
  {
   "cell_type": "code",
   "execution_count": null,
   "id": "086d8a46-03e1-459d-8efe-a89a9c457caf",
   "metadata": {},
   "outputs": [],
   "source": [
    "Netatmo_cleaned = af.resample_df_montly(netatmo_out_path, year, month, 'filtered')"
   ]
  },
  {
   "cell_type": "markdown",
   "id": "183e6041-67b9-4ace-bf02-c8dd565a60b5",
   "metadata": {},
   "source": [
    "#### Plot histogram "
   ]
  },
  {
   "cell_type": "code",
   "execution_count": null,
   "id": "a281dfa3-6b46-46c2-9291-52666723eb74",
   "metadata": {},
   "outputs": [],
   "source": [
    "af.plot_histogram_clean(Netatmo_cleaned, month, year)"
   ]
  },
  {
   "cell_type": "markdown",
   "id": "c31bca0b-f5cd-4665-95be-65bf23c48a87",
   "metadata": {},
   "source": [
    "### Plot map"
   ]
  },
  {
   "cell_type": "code",
   "execution_count": null,
   "id": "92122b38-4cb5-4a79-8910-9da2255da672",
   "metadata": {},
   "outputs": [],
   "source": [
    "af.plot_median_temp_map(Netatmo_cleaned)"
   ]
  },
  {
   "cell_type": "markdown",
   "id": "ed524fd1-0c2b-4f69-8de4-e2f6adc1907d",
   "metadata": {},
   "source": [
    "### Plot temperature statistics\n",
    "display the temperature statistics for each sensor on the selected mont"
   ]
  },
  {
   "cell_type": "code",
   "execution_count": null,
   "id": "df2d37c8-c1c4-43f9-bf8c-2718159cebeb",
   "metadata": {},
   "outputs": [],
   "source": [
    "af.plot_montly_statistics(Netatmo_cleaned,month,year)"
   ]
  },
  {
   "cell_type": "markdown",
   "id": "fa699999-07cd-437a-8254-0dc95dd85432",
   "metadata": {
    "tags": []
   },
   "source": [
    "# Compute and plot the **yearly** statistics\n",
    "plot the temperature statistics time series of the selected station on an annual basis"
   ]
  },
  {
   "cell_type": "markdown",
   "id": "4cc3ca0f-cb7d-4ff1-8570-74f0ed87ccc8",
   "metadata": {
    "tags": []
   },
   "source": [
    "## 1. Before cleaning"
   ]
  },
  {
   "cell_type": "code",
   "execution_count": null,
   "id": "96e510ac-f76f-4b2b-961f-9542e63e8281",
   "metadata": {},
   "outputs": [],
   "source": [
    "Netatmo_raw = af.resample_df_annually(netatmo_out_path, year, 'clip')"
   ]
  },
  {
   "cell_type": "code",
   "execution_count": null,
   "id": "8bc78951-fc30-4d60-9ce4-1086dd26686b",
   "metadata": {},
   "outputs": [],
   "source": [
    "#Netatmo_raw"
   ]
  },
  {
   "cell_type": "code",
   "execution_count": null,
   "id": "8b43da96-3f4e-4d72-ae26-e1769a9a6ccf",
   "metadata": {},
   "outputs": [],
   "source": [
    "sensor_dropdown1, separate_dataframes1 = af.create_sensors_dropdown(Netatmo_raw)\n",
    "sensor_dropdown1"
   ]
  },
  {
   "cell_type": "code",
   "execution_count": null,
   "id": "1c942d52-f5cb-41d9-88bb-27fa408af3e3",
   "metadata": {},
   "outputs": [],
   "source": [
    "sensor_dropdown1.value"
   ]
  },
  {
   "cell_type": "code",
   "execution_count": null,
   "id": "de90b4a1-ff83-4b88-b0ec-674838c543ae",
   "metadata": {},
   "outputs": [],
   "source": [
    "selected_dataframe1 = separate_dataframes1.get(sensor_dropdown1.value)"
   ]
  },
  {
   "cell_type": "code",
   "execution_count": null,
   "id": "7489d269-383e-4aca-9059-1c4f4614d110",
   "metadata": {},
   "outputs": [],
   "source": [
    "selected_dataframe1['Median'].plot.hist(by=None, bins=20)"
   ]
  },
  {
   "cell_type": "code",
   "execution_count": null,
   "id": "e783148c-e959-42b4-8abf-80ed8bd75a5a",
   "metadata": {},
   "outputs": [],
   "source": [
    "af.plot_time_series(selected_dataframe1, sensor_dropdown1, year)"
   ]
  },
  {
   "cell_type": "markdown",
   "id": "ccc3823e-802c-4eeb-b92b-a9cfd933a527",
   "metadata": {
    "tags": []
   },
   "source": [
    "## 2. After cleaning"
   ]
  },
  {
   "cell_type": "code",
   "execution_count": null,
   "id": "f680fd38-7a64-4f65-8798-3d313135ea06",
   "metadata": {},
   "outputs": [],
   "source": [
    "Netatmo_filtered = af.resample_df_annually(netatmo_out_path,year,'filtered')"
   ]
  },
  {
   "cell_type": "code",
   "execution_count": null,
   "id": "18099841-1eb8-46c0-b330-7a226907c024",
   "metadata": {},
   "outputs": [],
   "source": [
    "sensor_dropdown2, separate_dataframes2 = af.create_sensors_dropdown(Netatmo_filtered)\n",
    "sensor_dropdown2"
   ]
  },
  {
   "cell_type": "code",
   "execution_count": null,
   "id": "0ad2d749-92a7-4b6e-af53-925eb600de5e",
   "metadata": {},
   "outputs": [],
   "source": [
    "sensor_dropdown2.value"
   ]
  },
  {
   "cell_type": "code",
   "execution_count": null,
   "id": "3e0ea682-2a5f-4405-bdf7-059fe7245699",
   "metadata": {},
   "outputs": [],
   "source": [
    "selected_dataframe2 = separate_dataframes2.get(sensor_dropdown2.value)"
   ]
  },
  {
   "cell_type": "code",
   "execution_count": null,
   "id": "074b3d22-173e-4f9f-a08b-a9c8ce2f9601",
   "metadata": {},
   "outputs": [],
   "source": [
    "selected_dataframe2['Median'].plot.hist(by=None, bins=20)"
   ]
  },
  {
   "cell_type": "code",
   "execution_count": null,
   "id": "f49afc74-2184-4fe5-bf10-01ce9a972513",
   "metadata": {},
   "outputs": [],
   "source": [
    "af.plot_time_series(selected_dataframe2, sensor_dropdown2, year)"
   ]
  },
  {
   "cell_type": "code",
   "execution_count": null,
   "id": "f14d17ed-dcce-4d55-8e66-787bf7d18c79",
   "metadata": {},
   "outputs": [],
   "source": []
  }
 ],
 "metadata": {
  "kernelspec": {
   "display_name": "Python 3 (ipykernel)",
   "language": "python",
   "name": "python3"
  },
  "language_info": {
   "codemirror_mode": {
    "name": "ipython",
    "version": 3
   },
   "file_extension": ".py",
   "mimetype": "text/x-python",
   "name": "python",
   "nbconvert_exporter": "python",
   "pygments_lexer": "ipython3",
   "version": "3.10.10"
  }
 },
 "nbformat": 4,
 "nbformat_minor": 5
}
