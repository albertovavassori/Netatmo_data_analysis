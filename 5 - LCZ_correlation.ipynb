{
 "cells": [
  {
   "cell_type": "markdown",
   "id": "eb0c5088-a3ee-4133-a585-e41f4466d596",
   "metadata": {},
   "source": [
    "<div class=\"alert alert-info\">\n",
    "<u><strong>Authors:</strong></u> <b>Ahmed Mukhtar</b> (ahmed.mukhtar@mail.polimi.it),and <b>Ahmed Yassin</b> (ahmedmohamed1@mail.polimi.it) - 2023 - Politecnico di Milano, Italy <br>\n",
    "</div>"
   ]
  },
  {
   "cell_type": "markdown",
   "id": "9f4a1ab5-2c21-4548-8743-a597624fddc8",
   "metadata": {},
   "source": [
    "## Stations' Climate Zone Class per Month"
   ]
  },
  {
   "cell_type": "code",
   "execution_count": null,
   "id": "79b50419-3a51-4188-aeb8-c1b77f47004a",
   "metadata": {},
   "outputs": [],
   "source": [
    "import pandas as pd\n",
    "import geopandas as gpd\n",
    "import ipywidgets as widgets\n",
    "import matplotlib.pyplot as plt\n",
    "import seaborn as sns\n",
    "%load_ext autoreload"
   ]
  },
  {
   "cell_type": "markdown",
   "id": "ced44e29-584b-44b9-85cd-64b955029821",
   "metadata": {},
   "source": [
    "Select the year."
   ]
  },
  {
   "cell_type": "code",
   "execution_count": null,
   "id": "582b543b-96e7-45c1-adc2-26355cc682f7",
   "metadata": {},
   "outputs": [],
   "source": [
    "year_w = widgets.Dropdown(\n",
    "    options = [i for i in range(2014, 2024)],\n",
    "    value = 2022,\n",
    "    description = 'Year:',\n",
    "    disabled = False,\n",
    "    layout = {'width': 'max-content'},\n",
    "    style = {'description_width': 'initial'}\n",
    ")\n",
    "year_w"
   ]
  },
  {
   "cell_type": "code",
   "execution_count": null,
   "id": "d0e72dac-ae0a-4954-9f25-b61ea05489f9",
   "metadata": {},
   "outputs": [],
   "source": [
    "year = year_w.value"
   ]
  },
  {
   "cell_type": "markdown",
   "id": "570f4b5f-4b44-41c1-906e-10c2cc830b7e",
   "metadata": {},
   "source": [
    "Select the month."
   ]
  },
  {
   "cell_type": "code",
   "execution_count": null,
   "id": "53a2122f-4e77-4367-9188-96bd4eeffde0",
   "metadata": {},
   "outputs": [],
   "source": [
    "month_w = widgets.Dropdown(\n",
    "    options = [i for i in range(1, 13)],\n",
    "    value = 2,\n",
    "    description = 'Month:',\n",
    "    disabled = False,\n",
    "    layout = {'width': 'max-content'},\n",
    "    style = {'description_width': 'initial'}\n",
    ")\n",
    "month_w"
   ]
  },
  {
   "cell_type": "code",
   "execution_count": null,
   "id": "76ba60fd-41f1-4998-a7cb-30e7a8407546",
   "metadata": {},
   "outputs": [],
   "source": [
    "month = month_w.value"
   ]
  },
  {
   "cell_type": "markdown",
   "id": "17f7f3a5-c0f0-4256-8100-59f1c4f4873c",
   "metadata": {},
   "source": [
    "Set the **output folders** where the data will be saved. "
   ]
  },
  {
   "cell_type": "code",
   "execution_count": null,
   "id": "7caed757-f294-49c2-af95-23f4cf89fa1e",
   "metadata": {},
   "outputs": [],
   "source": [
    "netatmo_out_path = 'Netatmo_csv_files/'"
   ]
  },
  {
   "cell_type": "code",
   "execution_count": null,
   "id": "33ee83dc-068d-47d7-9185-90d0d726823e",
   "metadata": {},
   "outputs": [],
   "source": [
    "Netatmo_data = pd.read_csv(netatmo_out_path + f'temp_Net_milan_{year}-{month}_filtered.csv', skiprows=0)"
   ]
  },
  {
   "cell_type": "code",
   "execution_count": null,
   "id": "f261032b-b6b5-486c-8121-e2ec1da7ad78",
   "metadata": {},
   "outputs": [],
   "source": [
    "stations_classes = pd.read_csv(netatmo_out_path + f'Stations_LCZ_csv/Stations_LCZ_2023-{month}.csv', skiprows=0)"
   ]
  },
  {
   "cell_type": "code",
   "execution_count": null,
   "id": "5e083232-db0e-4391-843f-3fcc50ce35a0",
   "metadata": {},
   "outputs": [],
   "source": [
    "# Define the mapping for LCZ_Class\n",
    "lcz_class_mapping = {\n",
    "    2: '2 - Compact midrise',\n",
    "    3: '3 - Compact low-rise',\n",
    "    5: '5 - Open midrise',\n",
    "    6: '6 - Open low-rise',\n",
    "    8: '8 - Large low-rise',\n",
    "    101: '101 - Dense trees',\n",
    "    102: '102 - Scattered trees',\n",
    "    104: '104 - Low Plants',\n",
    "    105: '105 - Bare rock or paved',\n",
    "    106: '106 - Bare soil or sand',\n",
    "    107: '107 - Water',\n",
    "    \n",
    "}\n",
    "\n",
    "stations_classes.rename(columns={'_majority': 'LCZ'}, inplace=True)\n",
    "\n",
    "# Create the 'LCZ_Class' column using the mapping\n",
    "stations_classes['LCZ_Class'] = stations_classes['LCZ'].map(lcz_class_mapping)\n",
    "\n",
    "stations_classes.drop(columns=['_minority'], inplace=True)"
   ]
  },
  {
   "cell_type": "code",
   "execution_count": null,
   "id": "6ee071a8-938e-46f7-87a4-fa07982800c9",
   "metadata": {},
   "outputs": [],
   "source": [
    "# Merge df1 and df2 on 'module_id' to add 'LCZ' column and keep only stations with 'LCZ' class\n",
    "classified_df = pd.merge(Netatmo_data, stations_classes[['module_id', 'LCZ', 'LCZ_Class']], on='module_id', how='inner')\n",
    "\n",
    "#reoder the columns\n",
    "classified_df = classified_df[['time','Temperature','min_temp','max_temp',\n",
    "                               'device_id','module_id','LCZ','LCZ_Class','lat','long',\n",
    "                               'timezone','country','altitude','city','street','geometry']]\n",
    "\n",
    "# Convert the 'time' column to datetime to facilitate filtering\n",
    "classified_df['time'] = pd.to_datetime(classified_df['time'])\n",
    "\n",
    "# Extract the hours from the 'time' column\n",
    "classified_df['hour'] = classified_df['time'].dt.hour\n",
    "\n",
    "# Define the daytime and nighttime hours for each month\n",
    "if month == 2:  # February\n",
    "    daytime_hours = [14, 15, 16]\n",
    "    nighttime_hours = [21, 22, 23]\n",
    "elif month == 3:  # March\n",
    "    daytime_hours = [14, 15, 16]\n",
    "    nighttime_hours = [22, 23, 00]\n",
    "elif month == 4:  # April\n",
    "    daytime_hours = [14, 15, 16]\n",
    "    nighttime_hours = [23, 00, 1]\n",
    "elif month in [5, 6, 8]: # May, June, August \n",
    "    daytime_hours = [14, 15, 16]\n",
    "    nighttime_hours = [00, 1, 2]\n",
    "elif month == 7: # July \n",
    "    daytime_hours = [16, 17, 18]\n",
    "    nighttime_hours = [00, 1, 2]\n",
    "\n",
    "# Filter the data for daytime and nighttime hours\n",
    "daytime_df = classified_df[classified_df['hour'].isin(daytime_hours)].copy()\n",
    "daytime_df['period'] = 'daytime'\n",
    "nighttime_df = classified_df[classified_df['hour'].isin(nighttime_hours)].copy()\n",
    "nighttime_df['period'] = 'nighttime'\n",
    "\n",
    "# Concatenate the daytime and nighttime dataframes\n",
    "day_night_time_df = pd.concat([daytime_df, nighttime_df])\n",
    "\n",
    "\n",
    "# Drop the 'hour' column as it is no longer needed\n",
    "day_night_time_df = day_night_time_df.drop(columns=['hour'])\n",
    "\n",
    "#reoder the columns\n",
    "day_night_time_df = day_night_time_df[['time','period','Temperature','min_temp','max_temp',\n",
    "                               'device_id','module_id','LCZ','LCZ_Class','lat','long',\n",
    "                               'timezone','country','altitude','city','street','geometry']]\n",
    "\n",
    "\n",
    "\n",
    "\n",
    "# Save the classified dataframe to a CSV file\n",
    "classified_df.to_csv(netatmo_out_path + f'Stations_Classified/temp_Net_milan_{year}-{month}_classified.csv', index=False)\n",
    "day_night_time_df.to_csv(netatmo_out_path + f'Stations_Classified/Daytime-Nighttime_Temp_per_month/day_night_temp_{year}-{month}.csv', index=False)"
   ]
  },
  {
   "cell_type": "code",
   "execution_count": null,
   "id": "334b8cc5-3ed7-4601-acf2-c4d402cafc2e",
   "metadata": {},
   "outputs": [],
   "source": [
    "#classified_df"
   ]
  },
  {
   "cell_type": "code",
   "execution_count": null,
   "id": "0adca6f5-e021-473e-baf3-7e2d7cd2cffc",
   "metadata": {},
   "outputs": [],
   "source": [
    "#day_night_time_df"
   ]
  },
  {
   "cell_type": "code",
   "execution_count": null,
   "id": "432e60a8-4700-475f-9def-373776a5d23c",
   "metadata": {},
   "outputs": [],
   "source": [
    "# List of LCZ_Class values to be removed\n",
    "lcz_classes_to_remove = [\n",
    "    '101 - Dense trees',\n",
    "    '102 - Scattered trees',\n",
    "    '104 - Low Plants',\n",
    "    '105 - Bare rock or paved',\n",
    "    '106 - Bare soil or sand',\n",
    "    '107 - Water'\n",
    "]\n",
    "\n",
    "# Filter the dataframe to exclude rows with the specified LCZ_Class values\n",
    "filtered_daytime = daytime_df[~daytime_df['LCZ_Class'].isin(lcz_classes_to_remove)]\n",
    "filtered_nighttime = nighttime_df[~nighttime_df['LCZ_Class'].isin(lcz_classes_to_remove)]"
   ]
  },
  {
   "cell_type": "code",
   "execution_count": null,
   "id": "0b2046e5-6a89-425d-b55c-591dd178c17a",
   "metadata": {},
   "outputs": [],
   "source": [
    "# Group by 'LCZ_Class' and get all temperatures for daytime and nighttime\n",
    "daytime_all = filtered_daytime[['LCZ_Class', 'Temperature']].copy()\n",
    "daytime_all['period'] = 'daytime'\n",
    "\n",
    "nighttime_all = filtered_nighttime[['LCZ_Class', 'Temperature']].copy()\n",
    "nighttime_all['period'] = 'nighttime'\n",
    "\n",
    "# Combine both dataframes into a single dataframe for plotting\n",
    "combined = pd.concat([daytime_all, nighttime_all])\n",
    "combined = combined.reset_index(drop=True)"
   ]
  },
  {
   "cell_type": "code",
   "execution_count": null,
   "id": "c4a5d6d0-1a15-4551-90d4-fdae0f4884b5",
   "metadata": {},
   "outputs": [],
   "source": [
    "# Sort the dataframe by 'LCZ_Class'\n",
    "sorted_data = combined.sort_values('LCZ_Class')\n",
    "\n",
    "# Create the box plot with separate boxes for daytime and nighttime(2)\n",
    "plt.figure(figsize=(16, 12))\n",
    "sns.boxplot(x='LCZ_Class', y='Temperature', hue='period', data=sorted_data)\n",
    "plt.title(f'Daytime and Nighttime Temperatures by Local Climate Zone (LCZ) {month}/{year}', fontsize=22)\n",
    "plt.xticks(rotation=90, fontsize=16)\n",
    "plt.xlabel('Local Climate Zone (LCZ)', fontsize=18)\n",
    "plt.ylabel('Temperature (°C)', fontsize=18)\n",
    "plt.yticks(fontsize=16)\n",
    "#plt.yticks(range(10, 30, 1))  # Setting Y-axis ticks with an interval of 2\n",
    "plt.legend(title='Period', title_fontsize=18, fontsize=16)\n",
    "\n",
    "# Save the plot as an image (e.g., PNG, JPG, PDF)\n",
    "plt.savefig(netatmo_out_path + f'Stations_Classified/Box_plots/Daytime&Nighttime-T-by-LCZ-{year}_{month}.png', bbox_inches='tight')\n",
    "plt.show()\n"
   ]
  },
  {
   "cell_type": "code",
   "execution_count": null,
   "id": "2a6c4075-6cb2-4047-88b2-f988f8aba168",
   "metadata": {},
   "outputs": [],
   "source": []
  },
  {
   "cell_type": "code",
   "execution_count": null,
   "id": "baff1844-e3d1-4d2f-969a-6d0f511252af",
   "metadata": {},
   "outputs": [],
   "source": []
  }
 ],
 "metadata": {
  "kernelspec": {
   "display_name": "Python 3 (ipykernel)",
   "language": "python",
   "name": "python3"
  },
  "language_info": {
   "codemirror_mode": {
    "name": "ipython",
    "version": 3
   },
   "file_extension": ".py",
   "mimetype": "text/x-python",
   "name": "python",
   "nbconvert_exporter": "python",
   "pygments_lexer": "ipython3",
   "version": "3.10.10"
  }
 },
 "nbformat": 4,
 "nbformat_minor": 5
}
