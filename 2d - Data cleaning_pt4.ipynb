{
 "cells": [
  {
   "cell_type": "markdown",
   "id": "c6a74806-09c9-4029-926a-6312cab022a9",
   "metadata": {},
   "source": [
    "<div class=\"alert alert-info\">\n",
    "<u><strong>Authors:</strong></u> <b>Alberto Vavassori</b> (alberto.vavassori@polimi.it) - 2023 - Politecnico di Milano, Italy <br>\n",
    "</div>"
   ]
  },
  {
   "cell_type": "markdown",
   "id": "009eb220-63fb-47da-bb4e-15af457e8742",
   "metadata": {
    "tags": []
   },
   "source": [
    "## Netatmo temperature time series cleaning (part 4)"
   ]
  },
  {
   "cell_type": "markdown",
   "id": "6a16487f-8ba5-44fe-b2a0-222c5bc07d3a",
   "metadata": {},
   "source": [
    "This notebook displays the Pearson's correlation coefficient between each Neatmo station and the virtual ARPA station for a selected year and month."
   ]
  },
  {
   "cell_type": "code",
   "execution_count": null,
   "id": "05affe65-917f-467c-bf82-29dc5d6599c9",
   "metadata": {
    "tags": []
   },
   "outputs": [],
   "source": [
    "import pandas as pd\n",
    "import geopandas as gpd\n",
    "import ipywidgets as widgets\n",
    "import datetime\n",
    "from shapely.geometry import Point"
   ]
  },
  {
   "cell_type": "code",
   "execution_count": null,
   "id": "c0e6c14e-bc98-4350-8994-423c445a9073",
   "metadata": {
    "tags": []
   },
   "outputs": [],
   "source": [
    "year_w = widgets.Dropdown(\n",
    "    options = [i for i in range(2014, 2024)],\n",
    "    value = 2023,\n",
    "    description = 'Year:',\n",
    "    disabled = False,\n",
    "    layout = {'width': 'max-content'},\n",
    "    style = {'description_width': 'initial'}\n",
    ")\n",
    "year_w"
   ]
  },
  {
   "cell_type": "code",
   "execution_count": null,
   "id": "46a375c4-f14f-4ba3-8a32-a15cc8b88ba9",
   "metadata": {
    "tags": []
   },
   "outputs": [],
   "source": [
    "year = year_w.value"
   ]
  },
  {
   "cell_type": "code",
   "execution_count": null,
   "id": "321be7dc-6a4c-4e3d-b8f3-8381037a35db",
   "metadata": {
    "tags": []
   },
   "outputs": [],
   "source": [
    "month_w = widgets.Dropdown(\n",
    "    options = [i for i in range(1, 13)],\n",
    "    value = 1,\n",
    "    description = 'Month:',\n",
    "    disabled = False,\n",
    "    layout = {'width': 'max-content'},\n",
    "    style = {'description_width': 'initial'}\n",
    ")\n",
    "month_w"
   ]
  },
  {
   "cell_type": "code",
   "execution_count": null,
   "id": "809782f4-b8a2-41f7-a00b-47d18cda759f",
   "metadata": {
    "tags": []
   },
   "outputs": [],
   "source": [
    "month = month_w.value"
   ]
  },
  {
   "cell_type": "code",
   "execution_count": null,
   "id": "b393bbb6-0eed-4a3d-ab8d-60b69c4befcd",
   "metadata": {
    "tags": []
   },
   "outputs": [],
   "source": [
    "cmm_gdf = gpd.read_file('CMM.gpkg')"
   ]
  },
  {
   "cell_type": "code",
   "execution_count": null,
   "id": "ab753556-97e7-4ce1-b390-545c1beec80f",
   "metadata": {
    "tags": []
   },
   "outputs": [],
   "source": [
    "netatmo_path = 'Netatmo_csv_files/'"
   ]
  },
  {
   "cell_type": "code",
   "execution_count": null,
   "id": "ed3a1830-df4a-4a55-aa30-dc8904026a88",
   "metadata": {
    "tags": []
   },
   "outputs": [],
   "source": [
    "perason_corr = pd.read_csv(netatmo_path + 'corr_ARPA_netatmo_%s-%s.csv' %(year, month), skiprows=0)"
   ]
  },
  {
   "cell_type": "code",
   "execution_count": null,
   "id": "4a589332-8194-45b9-b762-4d0fe35fb5f0",
   "metadata": {
    "tags": []
   },
   "outputs": [],
   "source": [
    "perason_corr.head()"
   ]
  },
  {
   "cell_type": "code",
   "execution_count": null,
   "id": "6bba6631-b87b-441d-a00d-26ccf97e8aa2",
   "metadata": {
    "tags": []
   },
   "outputs": [],
   "source": [
    "perason_corr['geometry'] = perason_corr.apply(lambda row: Point(row['long'], row['lat']), axis = 1)\n",
    "perason_corr_gdf = gpd.GeoDataFrame(perason_corr, geometry = 'geometry', crs = 'EPSG:4326')"
   ]
  },
  {
   "cell_type": "code",
   "execution_count": null,
   "id": "6eeceef8-03df-45d5-8664-838ba2eb2815",
   "metadata": {
    "tags": []
   },
   "outputs": [],
   "source": [
    "m = cmm_gdf.explore(\n",
    "     #style_kwds = {'fillOpacity': 0},\n",
    "     marker_kwds=dict(radius=10, fill=True), # make marker radius 10px with fill\n",
    "     tooltip_kwds=dict(labels=False), # do not show column label in the tooltip\n",
    "     tooltip = False, \n",
    "     popup = False,\n",
    "     highlight = False,\n",
    "     name=\"cmm\" # name of the layer in the map\n",
    " )\n",
    "\n",
    "perason_corr_gdf.explore(m=m, \n",
    "     column=\"pearson_coef\", # make choropleth based on \"BoroName\" column\n",
    "     tooltip=\"pearson_coef\", # show \"BoroName\" value in tooltip (on hover)\n",
    "     #scheme=\"naturalbreaks\",\n",
    "     popup=True, # show all values in popup (on click)\n",
    "     tiles=\"CartoDB positron\", # use \"CartoDB positron\" tiles\n",
    "     marker_kwds = dict(radius = 4, fill = True),\n",
    "     cmap = 'hot'\n",
    "    )\n",
    "\n",
    "m"
   ]
  },
  {
   "cell_type": "code",
   "execution_count": null,
   "id": "20580c0d-6692-4636-8793-5b15fd7a04a6",
   "metadata": {},
   "outputs": [],
   "source": []
  },
  {
   "cell_type": "code",
   "execution_count": null,
   "id": "ad51eb49-5885-4a13-b5f5-6551be561e83",
   "metadata": {},
   "outputs": [],
   "source": []
  }
 ],
 "metadata": {
  "kernelspec": {
   "display_name": "Python 3 (ipykernel)",
   "language": "python",
   "name": "python3"
  },
  "language_info": {
   "codemirror_mode": {
    "name": "ipython",
    "version": 3
   },
   "file_extension": ".py",
   "mimetype": "text/x-python",
   "name": "python",
   "nbconvert_exporter": "python",
   "pygments_lexer": "ipython3",
   "version": "3.10.10"
  }
 },
 "nbformat": 4,
 "nbformat_minor": 5
}
