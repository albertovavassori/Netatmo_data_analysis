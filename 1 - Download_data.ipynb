{
 "cells": [
  {
   "cell_type": "markdown",
   "id": "a0d1a52f-70be-4dc9-bc21-a8a857a20421",
   "metadata": {},
   "source": [
    "<div class=\"alert alert-info\">\n",
    "<u><strong>Authors:</strong></u> <b>Alberto Vavassori</b> (alberto.vavassori@polimi.it), <b>Andrea Folini</b> (andrea.folini@polimi.it), and <b>Mathilde Puche</b> (mathildedanielle.puche@mail.polimi.it) - 2023 - Politecnico di Milano, Italy <br>\n",
    "</div>"
   ]
  },
  {
   "cell_type": "markdown",
   "id": "1a4e1e13-beda-443c-81ff-3b05e2a0977f",
   "metadata": {
    "tags": []
   },
   "source": [
    "# Download and concatenate raw Netatmo data"
   ]
  },
  {
   "cell_type": "markdown",
   "id": "b1882550-8d68-425d-adfe-3745c9aee805",
   "metadata": {},
   "source": [
    "### Introduction"
   ]
  },
  {
   "cell_type": "markdown",
   "id": "b49d399f-e07c-442c-aad5-2b767cd07d9d",
   "metadata": {},
   "source": [
    "This Notebook contains Python recipes to download temperature data from the **Netatmo global weather network**[<sup>1</sup>](#1). Netatmo is a commercial manufacturer and data aggregator of citizen weather stations, distributing low-cost weather stations for citizens around the world with the aim of monitoring outdoor and indoor weather conditions (e.g., temperature and humidity). The outdoor module measures several variables including at least the outside air temperature (specified manufacturer accuracy: ±0.3°C) and relative humidity (specified manufacturer accuracy: ±3%) at 5 minutes intervals and are transferred automatically to the Netatmo server via Wi-Fi connection. Owners have access to real-time data visualization via application software. Observations are publicly shared through a dedicated Application Programming Interface (API), which enables free data download within the limits expressed by the provider."
   ]
  },
  {
   "cell_type": "markdown",
   "id": "66968cf8-991e-49ed-a5bf-98b5127f29a8",
   "metadata": {},
   "source": [
    "The code takes advantage of the Python package `patatmo`[<sup>2</sup>](#2) and specifically of two dedicated methods. The former - `Getpublicdata` - is used to get instantaneous measurements from all stations within a specific geographic area along with the corresponding metadata (e.g., station identifier, latitude, and longitude). The latter - `Getmeasure` - allows data retrieval for a specific station in a given time range and is thus used to extract temperature time histories recorded by each station. To launch the following pieces of code, users need to create a Netatmo account with corresponding username and password. These will be used to download Netatmo data through API."
   ]
  },
  {
   "cell_type": "markdown",
   "id": "b34d800b-c293-467f-80f7-a0a117fbc018",
   "metadata": {},
   "source": [
    "**Note**: this Notebook is set for retrieving data of the Metropolitan City of Milan. The number of stations over this area changes over time, ranging from 55 stations in 2014 to 688 in 2021."
   ]
  },
  {
   "cell_type": "markdown",
   "id": "c67a98af-a9f8-45a4-ab43-6c3cc9dc1f2c",
   "metadata": {},
   "source": [
    "The functions for downloading, concatenating, and filtering the observations are saved in `netatmo_download.py`.\n",
    "At the end of this section, it is possible to start cleaning the data with `2 - Clear_data.ipynb`."
   ]
  },
  {
   "cell_type": "markdown",
   "id": "293580dd-eb1c-4957-99cd-1ccbab3a7764",
   "metadata": {
    "tags": []
   },
   "source": [
    "### Resources\n",
    "\n",
    "<span id=\"1\">[<sup>1</sup>Netatmo Weathermap](https://weathermap.netatmo.com/)</span><br>\n",
    "\n",
    "<span id=\"2\">[<sup>2</sup>Patatmo documentation](https://nobodyinperson.gitlab.io/python3-patatmo/)</span><br>\n",
    "\n"
   ]
  },
  {
   "cell_type": "markdown",
   "id": "f93dc1d7-35d8-4a42-9c18-c084877e8156",
   "metadata": {},
   "source": [
    "### 1. Import useful libraries and functions"
   ]
  },
  {
   "cell_type": "markdown",
   "id": "8ab250c7-349d-4884-a5a6-2f3f067aceb2",
   "metadata": {},
   "source": [
    "Import useful libraries and functions."
   ]
  },
  {
   "cell_type": "code",
   "execution_count": null,
   "id": "e283a29d-7a7a-490e-b448-53ed642adcf4",
   "metadata": {
    "tags": []
   },
   "outputs": [],
   "source": [
    "import ipywidgets as widgets"
   ]
  },
  {
   "cell_type": "code",
   "execution_count": null,
   "id": "832488f8-8704-4355-8014-05ba87267575",
   "metadata": {
    "tags": []
   },
   "outputs": [],
   "source": [
    "from netatmo_download import *\n",
    "%load_ext autoreload"
   ]
  },
  {
   "cell_type": "markdown",
   "id": "c470b4c3-5522-4c56-adca-4372c5ce3f75",
   "metadata": {},
   "source": [
    "Set your credential. You have to create an account on Netatmo."
   ]
  },
  {
   "cell_type": "markdown",
   "id": "3ba490f7-3e27-4c14-8f5f-c1fce288221a",
   "metadata": {},
   "source": [
    "Select the year."
   ]
  },
  {
   "cell_type": "code",
   "execution_count": null,
   "id": "bbfd93b9-74ae-4ea2-8efc-518db6e6767d",
   "metadata": {},
   "outputs": [],
   "source": [
    "year_w = widgets.Dropdown(\n",
    "    options = [i for i in range(2014, 2024)],\n",
    "    value = 2023,\n",
    "    description = 'Year:',\n",
    "    disabled = False,\n",
    "    layout = {'width': 'max-content'},\n",
    "    style = {'description_width': 'initial'}\n",
    ")\n",
    "year_w"
   ]
  },
  {
   "cell_type": "code",
   "execution_count": null,
   "id": "49c9536a-53ae-47d6-9bc3-6f94a0be4f9a",
   "metadata": {
    "tags": []
   },
   "outputs": [],
   "source": [
    "year = year_w.value"
   ]
  },
  {
   "cell_type": "markdown",
   "id": "eb540fb0-0b53-4132-b0bb-d294f7e7f28f",
   "metadata": {},
   "source": [
    "Select the month."
   ]
  },
  {
   "cell_type": "code",
   "execution_count": null,
   "id": "63fb01af-38e1-43f8-ba9f-51e5442e7fd4",
   "metadata": {},
   "outputs": [],
   "source": [
    "month_w = widgets.Dropdown(\n",
    "    options = [i for i in range(1, 13)],\n",
    "    value = 1,\n",
    "    description = 'Month:',\n",
    "    disabled = False,\n",
    "    layout = {'width': 'max-content'},\n",
    "    style = {'description_width': 'initial'}\n",
    ")\n",
    "month_w"
   ]
  },
  {
   "cell_type": "code",
   "execution_count": null,
   "id": "c1711ec0-7dae-49a8-845c-3ff21def32e2",
   "metadata": {
    "tags": []
   },
   "outputs": [],
   "source": [
    "month = month_w.value"
   ]
  },
  {
   "cell_type": "markdown",
   "id": "47ba9851-eab1-4906-8924-2f09af85fab1",
   "metadata": {},
   "source": [
    "Set the **output folder** where the data will be saved."
   ]
  },
  {
   "cell_type": "code",
   "execution_count": null,
   "id": "89ad1d3b-6c2d-4dc2-830d-863ef84bb947",
   "metadata": {
    "tags": []
   },
   "outputs": [],
   "source": [
    "out_path = 'Netatmo_csv_files'"
   ]
  },
  {
   "cell_type": "code",
   "execution_count": null,
   "id": "295ee7fb-8d84-40ae-91a9-64a712b2d097",
   "metadata": {},
   "outputs": [],
   "source": [
    "gpkg_path = 'Netatmo_gpkg'"
   ]
  },
  {
   "cell_type": "markdown",
   "id": "68873eb1-d4c3-4f30-ad49-f6e2ad943163",
   "metadata": {},
   "source": [
    "### 1. Download monthly data"
   ]
  },
  {
   "cell_type": "markdown",
   "id": "3f4e2d71-d8a9-4d64-a51e-3a89d371a5cb",
   "metadata": {},
   "source": [
    "Download the csv files containing the measures in the four blocks in which the metropolitan city has been subdivided."
   ]
  },
  {
   "cell_type": "code",
   "execution_count": null,
   "id": "38225235-96a9-43e1-8288-b68a506a8d02",
   "metadata": {},
   "outputs": [],
   "source": [
    "get_measure_by_month_to_csv(credentials, year, month, out_path)"
   ]
  },
  {
   "cell_type": "markdown",
   "id": "fca12073-0be1-4d8e-b59e-886402f91ed9",
   "metadata": {},
   "source": [
    "### 2. Concatenate data into a single file"
   ]
  },
  {
   "cell_type": "markdown",
   "id": "cbafe734-8023-4987-bd4b-e9e3004875f3",
   "metadata": {},
   "source": [
    "Concatenate the csv files in a single csv file."
   ]
  },
  {
   "cell_type": "code",
   "execution_count": null,
   "id": "0f3bab4b-92ea-4123-b800-6d3989e383f4",
   "metadata": {},
   "outputs": [],
   "source": [
    "concat_csv_files(year, month, out_path) "
   ]
  },
  {
   "cell_type": "markdown",
   "id": "1f299a50-a24f-4681-8861-bb234da04e1a",
   "metadata": {},
   "source": [
    "### 3. Filter observations"
   ]
  },
  {
   "cell_type": "markdown",
   "id": "9a65d36d-7467-41e6-bb91-9672a2c9c81c",
   "metadata": {},
   "source": [
    "Once the monthly data have been downloaded and concatenated, it is necessary to delate the measurements falling outside the Metropolitan City of Milan."
   ]
  },
  {
   "cell_type": "markdown",
   "id": "a64710bb-5856-4c54-925e-dbb7d5ca8110",
   "metadata": {},
   "source": [
    "Set the path to the GeoPackage with the boundary of the area of interest."
   ]
  },
  {
   "cell_type": "code",
   "execution_count": null,
   "id": "0ee3a1d9-1e15-40b7-8c9d-8a5bf69c2ff8",
   "metadata": {
    "tags": []
   },
   "outputs": [],
   "source": [
    "aoi = 'aoi.gpkg'"
   ]
  },
  {
   "cell_type": "code",
   "execution_count": null,
   "id": "3f2af6a2-8a0f-4642-9de2-3c43d9f1fba7",
   "metadata": {
    "tags": []
   },
   "outputs": [],
   "source": [
    "filter_netatmo_stations(year, month, aoi, out_path)"
   ]
  },
  {
   "cell_type": "markdown",
   "id": "9d46f53e-f59d-4710-b9d1-1f32878f639c",
   "metadata": {},
   "source": [
    "Extract the location of the monitoring stations and save them to a GeoPackage."
   ]
  },
  {
   "cell_type": "code",
   "execution_count": null,
   "id": "aef851b7-d964-4467-aade-4ff4db5f1827",
   "metadata": {
    "tags": []
   },
   "outputs": [],
   "source": [
    "extract_netatmo_stations(year, month, out_path, gpkg_path)"
   ]
  }
 ],
 "metadata": {
  "kernelspec": {
   "display_name": "Python 3 (ipykernel)",
   "language": "python",
   "name": "python3"
  },
  "language_info": {
   "codemirror_mode": {
    "name": "ipython",
    "version": 3
   },
   "file_extension": ".py",
   "mimetype": "text/x-python",
   "name": "python",
   "nbconvert_exporter": "python",
   "pygments_lexer": "ipython3",
   "version": "3.10.10"
  }
 },
 "nbformat": 4,
 "nbformat_minor": 5
}
