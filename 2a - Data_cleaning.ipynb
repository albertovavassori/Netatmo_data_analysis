{
 "cells": [
  {
   "cell_type": "markdown",
   "id": "03645ed1-b3be-4c9d-beba-db42c22bb6e0",
   "metadata": {},
   "source": [
    "<div class=\"alert alert-info\">\n",
    "<u><strong>Authors:</strong></u> <b>Alberto Vavassori</b> (alberto.vavassori@polimi.it), <b>Andrea Folini</b> (andrea.folini@polimi.it), and <b>Mathilde Puche</b> (mathildedanielle.puche@mail.polimi.it) - 2023 - Politecnico di Milano, Italy <br>\n",
    "</div>"
   ]
  },
  {
   "cell_type": "markdown",
   "id": "c3ff3def-a3bb-4550-a728-2acfb5e9e5c1",
   "metadata": {},
   "source": [
    "# ARPA and Netatmo temperature time series cleaning"
   ]
  },
  {
   "cell_type": "markdown",
   "id": "f7d1be76-d9f0-4ef6-bdd0-0a2bd9bae735",
   "metadata": {},
   "source": [
    "Import functions for the automatic cleaning of ARPA and Netamto time series."
   ]
  },
  {
   "cell_type": "code",
   "execution_count": null,
   "id": "3c356445-72ad-4efb-b28a-ebf0ccbb93b7",
   "metadata": {
    "tags": []
   },
   "outputs": [],
   "source": [
    "import arpa_cleaning as ac\n",
    "import netatmo_cleaning as nc\n",
    "import pandas as pd\n",
    "import ipywidgets as widgets\n",
    "import datetime\n",
    "pd.set_option('display.max_columns', None)"
   ]
  },
  {
   "cell_type": "code",
   "execution_count": null,
   "id": "84905af9-088e-44d7-9b08-68d7f8bd98ae",
   "metadata": {
    "tags": []
   },
   "outputs": [],
   "source": [
    "%load_ext autoreload"
   ]
  },
  {
   "cell_type": "code",
   "execution_count": null,
   "id": "db5addaa-ad40-4912-8d30-4afc4404a8ca",
   "metadata": {
    "tags": []
   },
   "outputs": [],
   "source": [
    "year_w = widgets.Dropdown(\n",
    "    options = [i for i in range(2014, 2024)],\n",
    "    value = 2023,\n",
    "    description = 'Year:',\n",
    "    disabled = False,\n",
    "    layout = {'width': 'max-content'},\n",
    "    style = {'description_width': 'initial'}\n",
    ")\n",
    "year_w"
   ]
  },
  {
   "cell_type": "code",
   "execution_count": null,
   "id": "a484dde6-8325-4a36-9a4d-052f8bbd83ce",
   "metadata": {
    "tags": []
   },
   "outputs": [],
   "source": [
    "year = year_w.value"
   ]
  },
  {
   "cell_type": "code",
   "execution_count": null,
   "id": "d43f82eb-ef95-4d44-9776-20af52d3b75c",
   "metadata": {
    "tags": []
   },
   "outputs": [],
   "source": [
    "month_w = widgets.Dropdown(\n",
    "    options = [i for i in range(1, 13)],\n",
    "    value = 1,\n",
    "    description = 'Month:',\n",
    "    disabled = False,\n",
    "    layout = {'width': 'max-content'},\n",
    "    style = {'description_width': 'initial'}\n",
    ")\n",
    "month_w"
   ]
  },
  {
   "cell_type": "code",
   "execution_count": null,
   "id": "e78c5985-c3f8-4cec-a575-41c0407c4084",
   "metadata": {
    "tags": []
   },
   "outputs": [],
   "source": [
    "month = month_w.value"
   ]
  },
  {
   "cell_type": "code",
   "execution_count": null,
   "id": "6c0a74cb-5ecf-4d16-a2cb-962329b01e12",
   "metadata": {
    "tags": []
   },
   "outputs": [],
   "source": [
    "arpa_first_month = month_w.value\n",
    "arpa_last_month = month_w.value"
   ]
  },
  {
   "cell_type": "markdown",
   "id": "41e1c07f-6fc7-4d5b-910f-df63ed52450e",
   "metadata": {},
   "source": [
    "Open the csv file containing the ARPA data of the selected year."
   ]
  },
  {
   "cell_type": "code",
   "execution_count": null,
   "id": "6da9bd5f-5efb-48a7-9ea5-12c72906d84b",
   "metadata": {
    "tags": []
   },
   "outputs": [],
   "source": [
    "arpa_out_path = 'Arpa_csv_files/'"
   ]
  },
  {
   "cell_type": "code",
   "execution_count": null,
   "id": "ddd59ac6-ac3c-4f2f-8c36-9838c68c3b53",
   "metadata": {
    "tags": []
   },
   "outputs": [],
   "source": [
    "# original_arpa_data = pd.read_csv(arpa_out_path + '%s_milan.csv' %year, skiprows=0)\n",
    "original_arpa_data = pd.read_csv(arpa_out_path + 'ARPA_%s.csv' %year, skiprows=0)"
   ]
  },
  {
   "cell_type": "markdown",
   "id": "b93265c7-c0d4-406a-9c7f-21f13aeae4a8",
   "metadata": {},
   "source": [
    "Open the Netatmo csv file containing the measures of the selected year and month."
   ]
  },
  {
   "cell_type": "code",
   "execution_count": null,
   "id": "7544c0ef-4bda-4c21-ba7f-46e00f791740",
   "metadata": {
    "tags": []
   },
   "outputs": [],
   "source": [
    "netatmo_out_path = 'Netatmo_csv_files/'"
   ]
  },
  {
   "cell_type": "code",
   "execution_count": null,
   "id": "24cd52fd-d71d-497d-85ce-cbe5aff015b2",
   "metadata": {},
   "outputs": [],
   "source": [
    "original_netatmo_data = pd.read_csv(netatmo_out_path + 'temp_Net_milan_%s-%s_clip.csv' % (year, month), skiprows=0)"
   ]
  },
  {
   "cell_type": "markdown",
   "id": "c520faa7-96f8-41cf-95a7-82179aefcc44",
   "metadata": {},
   "source": [
    "<u>Original number of Netatmo stations:"
   ]
  },
  {
   "cell_type": "code",
   "execution_count": null,
   "id": "3392f8f0-f2c3-4ca5-8e9d-173955e28673",
   "metadata": {
    "tags": []
   },
   "outputs": [],
   "source": [
    "len(original_netatmo_data['module_id'].unique())"
   ]
  },
  {
   "cell_type": "markdown",
   "id": "5c22e939-d6f3-4974-8067-0d39e080580e",
   "metadata": {},
   "source": [
    "<u>Original number of Netatmo measurements:"
   ]
  },
  {
   "cell_type": "code",
   "execution_count": null,
   "id": "27b5f589-970d-45c9-8c35-9df3854266cb",
   "metadata": {
    "tags": []
   },
   "outputs": [],
   "source": [
    "len(original_netatmo_data)"
   ]
  },
  {
   "cell_type": "markdown",
   "id": "d529882d-3322-4480-bfc2-a12f8758e601",
   "metadata": {},
   "source": [
    "Use the following function (`remove_irregularity_in_dataset`) to remove duplicate or irregularity in the data set.\n",
    "\n",
    "*Use it only for December 2019, June, July, September, and October 2020, and August and September 2021.*"
   ]
  },
  {
   "cell_type": "code",
   "execution_count": null,
   "id": "c4543c5f-face-4933-a8d6-8496ad9b42f5",
   "metadata": {},
   "outputs": [],
   "source": [
    "# original_netatmo_data = nc.remove_irregularity_in_dataset(original_netatmo_data , year, month)"
   ]
  },
  {
   "cell_type": "markdown",
   "id": "7e18af26-55a3-486f-925d-caf9e55909c4",
   "metadata": {},
   "source": [
    "### Clear ARPA data and create the ARPA virtual station"
   ]
  },
  {
   "cell_type": "code",
   "execution_count": null,
   "id": "52639fe9-4eb5-4d94-8b87-30ad4c18212d",
   "metadata": {},
   "outputs": [],
   "source": [
    "arpa_clean = ac.remove_outliers(year, arpa_first_month, arpa_last_month, original_arpa_data, arpa_out_path)\n",
    "arpa_virtual_station = ac.create_virtual_station(year, arpa_first_month, arpa_last_month, arpa_clean, arpa_out_path)"
   ]
  },
  {
   "cell_type": "markdown",
   "id": "c579d18b-118c-4693-96fb-fc38af58343b",
   "metadata": {},
   "source": [
    "### Remove low correlated stations"
   ]
  },
  {
   "cell_type": "code",
   "execution_count": null,
   "id": "fb71fa78-2805-47f4-a738-ab4b2611a91c",
   "metadata": {},
   "outputs": [],
   "source": [
    "arpa_net_correlation = nc.compute_corr(year, month, original_netatmo_data, arpa_virtual_station, netatmo_out_path)\n",
    "netatmo_high_corr, correlation_stats = nc.remove_low_corr(year, month, netatmo_out_path, arpa_net_correlation, original_netatmo_data)"
   ]
  },
  {
   "cell_type": "markdown",
   "id": "9b194587-3f0b-4508-b4a5-e138f4f7da3c",
   "metadata": {},
   "source": [
    "<u>Number of stations kept:"
   ]
  },
  {
   "cell_type": "code",
   "execution_count": null,
   "id": "e5d3dbf9-d6ab-4b50-a54b-55266df99548",
   "metadata": {
    "tags": []
   },
   "outputs": [],
   "source": [
    "len(netatmo_high_corr)"
   ]
  },
  {
   "cell_type": "markdown",
   "id": "4d48c009-8f81-4187-90be-ec26393dc65b",
   "metadata": {},
   "source": [
    "<u>Number of measurements kept:"
   ]
  },
  {
   "cell_type": "code",
   "execution_count": null,
   "id": "aeb40076-e5ec-4e34-870a-c3b6e9de73fb",
   "metadata": {
    "tags": []
   },
   "outputs": [],
   "source": [
    "len(netatmo_high_corr['module_id'].unique())"
   ]
  },
  {
   "cell_type": "markdown",
   "id": "aadf86ed-627d-4e7f-9b92-dd825d8ef377",
   "metadata": {},
   "source": [
    "### Remove unrealistic values"
   ]
  },
  {
   "cell_type": "code",
   "execution_count": null,
   "id": "e39f1f65-1746-4f91-8d76-e363fbdb6611",
   "metadata": {},
   "outputs": [],
   "source": [
    "netatmo_realistic, unrealistic_stats = nc.remove_unrealistic_values(year, month, netatmo_out_path, netatmo_high_corr, arpa_virtual_station)"
   ]
  },
  {
   "cell_type": "markdown",
   "id": "f3dc5d40-491b-4f31-af83-ba6ab2e6b30c",
   "metadata": {},
   "source": [
    "### Remove biased time series"
   ]
  },
  {
   "cell_type": "code",
   "execution_count": null,
   "id": "0a36cdd5-eb44-49cc-bcee-ae55f992b59b",
   "metadata": {},
   "outputs": [],
   "source": [
    "netatmo_unbiased, biased_tot_stats, biased_station_stats = nc.remove_biased_series(year, month, netatmo_out_path, netatmo_realistic, arpa_virtual_station)"
   ]
  },
  {
   "cell_type": "markdown",
   "id": "90faa766-fb71-499b-8050-b988629f4323",
   "metadata": {},
   "source": [
    "<u>Number of stations kept:"
   ]
  },
  {
   "cell_type": "code",
   "execution_count": null,
   "id": "4aa779ff-9b60-42b4-8a3b-fcf80b8ab03c",
   "metadata": {
    "tags": []
   },
   "outputs": [],
   "source": [
    "len(netatmo_unbiased)"
   ]
  },
  {
   "cell_type": "markdown",
   "id": "c2fe7d1b-8cf5-446b-97f0-f6411f5ce446",
   "metadata": {},
   "source": [
    "<u>Number of measurements kept:"
   ]
  },
  {
   "cell_type": "code",
   "execution_count": null,
   "id": "abf48643-42fb-4dd4-b81a-b367c21d9ab1",
   "metadata": {
    "tags": []
   },
   "outputs": [],
   "source": [
    "len(netatmo_unbiased['module_id'].unique())"
   ]
  },
  {
   "cell_type": "markdown",
   "id": "6c3b446b-f644-41a6-9685-fe533f4278e8",
   "metadata": {},
   "source": [
    "### Remove local outliers"
   ]
  },
  {
   "cell_type": "code",
   "execution_count": null,
   "id": "13a1466e-baa2-4e55-8926-bb00db32aaf6",
   "metadata": {},
   "outputs": [],
   "source": [
    "netatmo_cleaned = nc.remove_local_outliers(year, month, netatmo_out_path, netatmo_unbiased)"
   ]
  },
  {
   "cell_type": "markdown",
   "id": "6fd67f7d-af4e-42fc-bfb6-15fefe22db58",
   "metadata": {},
   "source": [
    "<u>Number of stations kept:"
   ]
  },
  {
   "cell_type": "code",
   "execution_count": null,
   "id": "4d8d7c3a-f2fe-4283-9fb1-d6f8e53ea352",
   "metadata": {
    "tags": []
   },
   "outputs": [],
   "source": [
    "len(netatmo_cleaned)"
   ]
  },
  {
   "cell_type": "markdown",
   "id": "f4428168-0271-459a-bcf3-4a95e7e4b0ba",
   "metadata": {},
   "source": [
    "<u>Number of measurements kept:"
   ]
  },
  {
   "cell_type": "code",
   "execution_count": null,
   "id": "53a46d04-7b5f-44a1-b796-4a0000453e70",
   "metadata": {
    "tags": []
   },
   "outputs": [],
   "source": [
    "len(netatmo_cleaned['module_id'].unique())"
   ]
  },
  {
   "cell_type": "markdown",
   "id": "29d0946d-03ce-4479-bdf8-fbe9a6294f44",
   "metadata": {},
   "source": [
    "### Remove unreliable stations"
   ]
  },
  {
   "cell_type": "code",
   "execution_count": null,
   "id": "236e81e7-b216-47a5-af7a-ea4ccc4bb928",
   "metadata": {},
   "outputs": [],
   "source": [
    "reliability_df, filtered_stations, removed_stations, netatmo_filtered = nc.remove_unreliable_stations(original_netatmo_data, netatmo_cleaned, netatmo_out_path, year, month)"
   ]
  },
  {
   "cell_type": "markdown",
   "id": "5e3785b9-51a7-4a2c-a7b6-d07b91546297",
   "metadata": {},
   "source": [
    "<u>Number of stations kept:"
   ]
  },
  {
   "cell_type": "code",
   "execution_count": null,
   "id": "29fd6a50-fc4b-4d40-9fe9-804f8194d9cf",
   "metadata": {
    "tags": []
   },
   "outputs": [],
   "source": [
    "len(netatmo_filtered)"
   ]
  },
  {
   "cell_type": "markdown",
   "id": "14079112-4859-4412-8350-7316ae206c3e",
   "metadata": {
    "tags": []
   },
   "source": [
    "<u>Number of measurements kept:"
   ]
  },
  {
   "cell_type": "code",
   "execution_count": null,
   "id": "ea36a7c9-db68-421c-88d0-2a0f653d6879",
   "metadata": {
    "tags": []
   },
   "outputs": [],
   "source": [
    "len(netatmo_filtered['module_id'].unique())"
   ]
  },
  {
   "cell_type": "code",
   "execution_count": null,
   "id": "5fe1c884-5a9e-4844-9409-95a09de810e3",
   "metadata": {},
   "outputs": [],
   "source": []
  }
 ],
 "metadata": {
  "kernelspec": {
   "display_name": "Python 3 (ipykernel)",
   "language": "python",
   "name": "python3"
  },
  "language_info": {
   "codemirror_mode": {
    "name": "ipython",
    "version": 3
   },
   "file_extension": ".py",
   "mimetype": "text/x-python",
   "name": "python",
   "nbconvert_exporter": "python",
   "pygments_lexer": "ipython3",
   "version": "3.10.10"
  }
 },
 "nbformat": 4,
 "nbformat_minor": 5
}
